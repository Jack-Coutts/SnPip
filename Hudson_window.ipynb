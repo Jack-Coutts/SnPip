{
 "cells": [
  {
   "cell_type": "code",
   "execution_count": 4,
   "id": "66e0337b",
   "metadata": {},
   "outputs": [],
   "source": [
    "import allel\n",
    "import numpy as np\n",
    "import pandas as pd\n",
    "from itertools import combinations"
   ]
  },
  {
   "cell_type": "code",
   "execution_count": 5,
   "id": "37b1d211",
   "metadata": {},
   "outputs": [
    {
     "data": {
      "text/html": [
       "<div>\n",
       "<style scoped>\n",
       "    .dataframe tbody tr th:only-of-type {\n",
       "        vertical-align: middle;\n",
       "    }\n",
       "\n",
       "    .dataframe tbody tr th {\n",
       "        vertical-align: top;\n",
       "    }\n",
       "\n",
       "    .dataframe thead th {\n",
       "        text-align: right;\n",
       "    }\n",
       "</style>\n",
       "<table border=\"1\" class=\"dataframe\">\n",
       "  <thead>\n",
       "    <tr style=\"text-align: right;\">\n",
       "      <th></th>\n",
       "      <th>rsID</th>\n",
       "      <th>sequence</th>\n",
       "    </tr>\n",
       "  </thead>\n",
       "  <tbody>\n",
       "    <tr>\n",
       "      <th>0</th>\n",
       "      <td>rs577013928</td>\n",
       "      <td>ttttttttttttttttttttttttttttttttttttttttttttt...</td>\n",
       "    </tr>\n",
       "    <tr>\n",
       "      <th>1</th>\n",
       "      <td>rs565082899</td>\n",
       "      <td>ttttttttttttttttttttttttttttttttttttttttttttt...</td>\n",
       "    </tr>\n",
       "    <tr>\n",
       "      <th>2</th>\n",
       "      <td>rs540382744</td>\n",
       "      <td>ttttttttttttttttttttttttttttttttttttttttttttt...</td>\n",
       "    </tr>\n",
       "    <tr>\n",
       "      <th>3</th>\n",
       "      <td>rs573244332</td>\n",
       "      <td>ttttttttttttttttttttttttttttttttttttttttttttt...</td>\n",
       "    </tr>\n",
       "    <tr>\n",
       "      <th>4</th>\n",
       "      <td>rs539162497</td>\n",
       "      <td>ttttttttttttttttttttttttttttttttttttttttttttt...</td>\n",
       "    </tr>\n",
       "  </tbody>\n",
       "</table>\n",
       "</div>"
      ],
      "text/plain": [
       "          rsID                                           sequence\n",
       "0  rs577013928   ttttttttttttttttttttttttttttttttttttttttttttt...\n",
       "1  rs565082899   ttttttttttttttttttttttttttttttttttttttttttttt...\n",
       "2  rs540382744   ttttttttttttttttttttttttttttttttttttttttttttt...\n",
       "3  rs573244332   ttttttttttttttttttttttttttttttttttttttttttttt...\n",
       "4  rs539162497   ttttttttttttttttttttttttttttttttttttttttttttt..."
      ]
     },
     "execution_count": 5,
     "metadata": {},
     "output_type": "execute_result"
    }
   ],
   "source": [
    "encoded = pd.read_csv(\"encoded.csv\", header=0, names=['rsID', 'sequence'])\n",
    "encoded.head()"
   ]
  },
  {
   "cell_type": "code",
   "execution_count": 6,
   "id": "e9cfee1d",
   "metadata": {},
   "outputs": [],
   "source": [
    "def makeArray(strings):\n",
    "    \n",
    "    # initialize sample array with empty list\n",
    "    bebG, cheG, esnG, gbrG, pelG = [], [], [], [], []\n",
    "    bebH, cheH, esnH, gbrH, pelH = [], [], [], [], []\n",
    "    \n",
    "    # swap the keys and values in the dictionary below\n",
    "    nested_dictionary = {'GBR':{'e':'a', 'f':'b', 'g':'c', 'h': 'd'},\n",
    "                         'PEL':{'i':'a', 'j':'b', 'k':'c', 'l': 'd'},\n",
    "                         'ESN':{'m':'a', 'n':'b', 'o':'c', 'p': 'd'},\n",
    "                         'BEB':{'q':'a', 'r':'b', 's':'c', 't': 'd'},\n",
    "                         'CHE':{'u':'a', 'v':'b', 'w':'c', 'x': 'd'}}\n",
    "\n",
    "    ginfo = {'a':'1|0', 'b':'1|1', 'c':'0|1', 'd':'0|0'}\n",
    "\n",
    "    dic = {'e':'GBR', 'f':'GBR', 'g':'GBR', 'h':'GBR',\n",
    "           'i':'PEL', 'j':'PEL', 'k':'PEL', 'l':'PEL',\n",
    "           'm':'ESN', 'n':'ESN', 'o':'ESN', 'p':'ESN',\n",
    "           'q':'BEB', 'r':'BEB', 's':'BEB', 't':'BEB',\n",
    "           'u':'CHE', 'v':'CHE', 'w':'CHE', 'x':'CHE'}\n",
    "\n",
    "    for string in strings:\n",
    "        string = string.strip()\n",
    "        genotypes = {}\n",
    "        N = len(string)\n",
    "         # initialize haplotype dictionary with 462 zeros for each sample\n",
    "        haplotypes = {'BEB':[0]*N, 'CHE':[0]*N, 'ESN':[0]*N, 'GBR':[0]*N, 'PEL':[0]*N}\n",
    "\n",
    "        for i, c in enumerate(string):\n",
    "            # take sample as key and 0|1 etc as value\n",
    "            genotypes.setdefault(dic[c], []).append(ginfo[nested_dictionary[dic[c]][c]])\n",
    "            # set 1 in which position sample present\n",
    "            haplotypes[dic[c]][i] = 1\n",
    "\n",
    "        # sort dictionary alphabetically\n",
    "        genotypes = dict(sorted(genotypes.items(), key = lambda x:x[0].lower()))\n",
    "        # split each 0|1 etc by | and make a list,,,thus apply on each sample\n",
    "        genotype_array = [[list(map(int, v.split('|'))) for v in val] for val in genotypes.values()]\n",
    "        # create haplotype array\n",
    "        haplotype_array = [val for val in haplotypes.values()]\n",
    "\n",
    "        # extracting genotype array samples\n",
    "        bebG.append(genotype_array[0])\n",
    "        cheG.append(genotype_array[1])\n",
    "        esnG.append(genotype_array[2])\n",
    "        gbrG.append(genotype_array[3])\n",
    "        pelG.append(genotype_array[4])\n",
    "        \n",
    "        # extracting haplotype array samples\n",
    "        bebH.append(haplotype_array[0])\n",
    "        cheH.append(haplotype_array[1])\n",
    "        esnH.append(haplotype_array[2])\n",
    "        gbrH.append(haplotype_array[3])\n",
    "        pelH.append(haplotype_array[4])\n",
    "        \n",
    "    return (bebG, cheG, esnG, gbrG, pelG)"
   ]
  },
  {
   "cell_type": "code",
   "execution_count": 7,
   "id": "a4b80b55",
   "metadata": {},
   "outputs": [],
   "source": [
    "# passing first 3 sequences into makeArray function\n",
    "g = makeArray(encoded['sequence'].iloc[100:200]) # we can pass a list inside the function as [snp1, snp2, snp3, ...]\n",
    "\n",
    "# extract genotype array into samples\n",
    "bebG, cheG, esnG, gbrG, pelG = g\n",
    "\n",
    "# extract haplotype array into samples\n",
    "# bebH, cheH, esnH, gbrH, pelH = h"
   ]
  },
  {
   "cell_type": "code",
   "execution_count": 15,
   "id": "d2a65486",
   "metadata": {},
   "outputs": [],
   "source": [
    "def calc_moving_hudson_fst(strings):\n",
    "    # passing sequences into makeArray function\n",
    "    g = makeArray(strings)\n",
    "    # extract genotype array into samples\n",
    "    bebG, cheG, esnG, gbrG, pelG = g\n",
    "    \n",
    "    FSTs = {}\n",
    "    \n",
    "    for pair,val in zip( combinations(['bebG','cheG','esnG','gbrG','pelG'],2), combinations([bebG,cheG,esnG,gbrG,pelG],2)):\n",
    "        ac1 = allel.GenotypeArray(val[0]).count_alleles()\n",
    "        ac2 = allel.GenotypeArray(val[1]).count_alleles()\n",
    "        fst = allel.moving_hudson_fst(ac1, ac2, 15, step = 15)\n",
    "    \n",
    "        FSTs.update({pair : fst})\n",
    "    \n",
    "    return FSTs"
   ]
  },
  {
   "cell_type": "code",
   "execution_count": 16,
   "id": "8d94fce6",
   "metadata": {},
   "outputs": [
    {
     "data": {
      "text/plain": [
       "{('bebG',\n",
       "  'cheG'): array([0.03543337, 0.0315438 , 0.00944336, 0.04456595, 0.02946088,\n",
       "        0.02491669]),\n",
       " ('bebG',\n",
       "  'esnG'): array([0.02142849, 0.05582269, 0.11426458, 0.32566496, 0.13148831,\n",
       "        0.15959616]),\n",
       " ('bebG',\n",
       "  'gbrG'): array([0.06790303, 0.00856417, 0.02699473, 0.00512476, 0.00028977,\n",
       "        0.16291702]),\n",
       " ('bebG',\n",
       "  'pelG'): array([0.01733013, 0.03025453, 0.02291235, 0.10282672, 0.12648646,\n",
       "        0.07740511]),\n",
       " ('cheG',\n",
       "  'esnG'): array([0.05810838, 0.06303388, 0.19060241, 0.29045066, 0.15537565,\n",
       "        0.07898431]),\n",
       " ('cheG',\n",
       "  'gbrG'): array([0.19165262, 0.07118688, 0.07546849, 0.06820209, 0.04661426,\n",
       "        0.07510459]),\n",
       " ('cheG',\n",
       "  'pelG'): array([0.00366681, 0.01947445, 0.07142241, 0.11278983, 0.15059607,\n",
       "        0.01258583]),\n",
       " ('esnG',\n",
       "  'gbrG'): array([0.09610099, 0.0440949 , 0.03436135, 0.28341565, 0.09397178,\n",
       "        0.01500246]),\n",
       " ('esnG',\n",
       "  'pelG'): array([0.02068164, 0.04520733, 0.04398022, 0.25958801, 0.24068202,\n",
       "        0.0321381 ]),\n",
       " ('gbrG',\n",
       "  'pelG'): array([0.14944938, 0.04998906, 0.0107279 , 0.07794422, 0.13721246,\n",
       "        0.02307796])}"
      ]
     },
     "execution_count": 16,
     "metadata": {},
     "output_type": "execute_result"
    }
   ],
   "source": [
    "calc_moving_hudson_fst(encoded['sequence'].iloc[0:101])"
   ]
  }
 ],
 "metadata": {
  "kernelspec": {
   "display_name": "Python 3",
   "language": "python",
   "name": "python3"
  },
  "language_info": {
   "codemirror_mode": {
    "name": "ipython",
    "version": 3
   },
   "file_extension": ".py",
   "mimetype": "text/x-python",
   "name": "python",
   "nbconvert_exporter": "python",
   "pygments_lexer": "ipython3",
   "version": "3.8.8"
  }
 },
 "nbformat": 4,
 "nbformat_minor": 5
}
