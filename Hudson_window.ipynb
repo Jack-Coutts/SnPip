{
 "cells": [
  {
   "cell_type": "code",
   "execution_count": 4,
   "id": "66e0337b",
   "metadata": {},
   "outputs": [],
   "source": [
    "import allel\n",
    "import numpy as np\n",
    "import pandas as pd\n",
    "from itertools import combinations"
   ]
  },
  {
   "cell_type": "code",
   "execution_count": null,
   "id": "37b1d211",
   "metadata": {},
   "outputs": [],
   "source": [
    "encoded = pd.read_csv(\"encoded.csv\", header=0, names=['rsID', 'sequence'])\n",
    "encoded.head()"
   ]
  },
  {
   "cell_type": "code",
   "execution_count": 3,
   "id": "e9cfee1d",
   "metadata": {},
   "outputs": [],
   "source": [
    "def makeArray(strings):\n",
    "    \n",
    "    # initialize sample array with empty list\n",
    "    bebG, cheG, esnG, gbrG, pelG = [], [], [], [], []\n",
    "    bebH, cheH, esnH, gbrH, pelH = [], [], [], [], []\n",
    "    \n",
    "    # swap the keys and values in the dictionary below\n",
    "    nested_dictionary = {'GBR':{'e':'a', 'f':'b', 'g':'c', 'h': 'd'},\n",
    "                         'PEL':{'i':'a', 'j':'b', 'k':'c', 'l': 'd'},\n",
    "                         'ESN':{'m':'a', 'n':'b', 'o':'c', 'p': 'd'},\n",
    "                         'BEB':{'q':'a', 'r':'b', 's':'c', 't': 'd'},\n",
    "                         'CHE':{'u':'a', 'v':'b', 'w':'c', 'x': 'd'}}\n",
    "\n",
    "    ginfo = {'a':'1|0', 'b':'1|1', 'c':'0|1', 'd':'0|0'}\n",
    "\n",
    "    dic = {'e':'GBR', 'f':'GBR', 'g':'GBR', 'h':'GBR',\n",
    "           'i':'PEL', 'j':'PEL', 'k':'PEL', 'l':'PEL',\n",
    "           'm':'ESN', 'n':'ESN', 'o':'ESN', 'p':'ESN',\n",
    "           'q':'BEB', 'r':'BEB', 's':'BEB', 't':'BEB',\n",
    "           'u':'CHE', 'v':'CHE', 'w':'CHE', 'x':'CHE'}\n",
    "\n",
    "    for string in strings:\n",
    "        string = string.strip()\n",
    "        genotypes = {}\n",
    "        N = len(string)\n",
    "         # initialize haplotype dictionary with 462 zeros for each sample\n",
    "        haplotypes = {'BEB':[0]*N, 'CHE':[0]*N, 'ESN':[0]*N, 'GBR':[0]*N, 'PEL':[0]*N}\n",
    "\n",
    "        for i, c in enumerate(string):\n",
    "            # take sample as key and 0|1 etc as value\n",
    "            genotypes.setdefault(dic[c], []).append(ginfo[nested_dictionary[dic[c]][c]])\n",
    "            # set 1 in which position sample present\n",
    "            haplotypes[dic[c]][i] = 1\n",
    "\n",
    "        # sort dictionary alphabetically\n",
    "        genotypes = dict(sorted(genotypes.items(), key = lambda x:x[0].lower()))\n",
    "        # split each 0|1 etc by | and make a list,,,thus apply on each sample\n",
    "        genotype_array = [[list(map(int, v.split('|'))) for v in val] for val in genotypes.values()]\n",
    "        # create haplotype array\n",
    "        haplotype_array = [val for val in haplotypes.values()]\n",
    "\n",
    "        # extracting genotype array samples\n",
    "        bebG.append(genotype_array[0])\n",
    "        cheG.append(genotype_array[1])\n",
    "        esnG.append(genotype_array[2])\n",
    "        gbrG.append(genotype_array[3])\n",
    "        pelG.append(genotype_array[4])\n",
    "        \n",
    "        # extracting haplotype array samples\n",
    "        bebH.append(haplotype_array[0])\n",
    "        cheH.append(haplotype_array[1])\n",
    "        esnH.append(haplotype_array[2])\n",
    "        gbrH.append(haplotype_array[3])\n",
    "        pelH.append(haplotype_array[4])\n",
    "        \n",
    "    return (bebG, cheG, esnG, gbrG, pelG)"
   ]
  },
  {
   "cell_type": "code",
   "execution_count": 4,
   "id": "a4b80b55",
   "metadata": {},
   "outputs": [],
   "source": [
    "# passing first 3 sequences into makeArray function\n",
    "g = makeArray(encoded['sequence'].iloc[100:200]) # we can pass a list inside the function as [snp1, snp2, snp3, ...]\n",
    "\n",
    "# extract genotype array into samples\n",
    "bebG, cheG, esnG, gbrG, pelG = g\n",
    "\n",
    "# extract haplotype array into samples\n",
    "# bebH, cheH, esnH, gbrH, pelH = h"
   ]
  },
  {
   "cell_type": "code",
   "execution_count": 1,
   "id": "d2a65486",
   "metadata": {},
   "outputs": [],
   "source": [
    "def calc_moving_hudson_fst(strings):\n",
    "    # passing sequences into makeArray function\n",
    "    g = makeArray(strings)\n",
    "    # extract genotype array into samples\n",
    "    bebG, cheG, esnG, gbrG, pelG = g\n",
    "    \n",
    "    FSTs = {}\n",
    "    \n",
    "    for pair,val in zip( combinations(['bebG','cheG','esnG','gbrG','pelG'],2), combinations([bebG,cheG,esnG,gbrG,pelG],2)):\n",
    "        ac1 = allel.GenotypeArray(val[0]).count_alleles()\n",
    "        ac2 = allel.GenotypeArray(val[1]).count_alleles()\n",
    "        fst = allel.moving_hudson_fst(ac1, ac2, 10)\n",
    "    \n",
    "        FSTs.update({pair : fst})\n",
    "    \n",
    "    return FSTs"
   ]
  },
  {
   "cell_type": "code",
   "execution_count": 3,
   "id": "b85c3efa",
   "metadata": {},
   "outputs": [
    {
     "ename": "NameError",
     "evalue": "name 'encoded' is not defined",
     "output_type": "error",
     "traceback": [
      "\u001b[0;31m---------------------------------------------------------------------------\u001b[0m",
      "\u001b[0;31mNameError\u001b[0m                                 Traceback (most recent call last)",
      "\u001b[0;32m<ipython-input-3-90e151beae22>\u001b[0m in \u001b[0;36m<module>\u001b[0;34m\u001b[0m\n\u001b[0;32m----> 1\u001b[0;31m \u001b[0mcalc_moving_hudson_fst\u001b[0m\u001b[0;34m(\u001b[0m\u001b[0mencoded\u001b[0m\u001b[0;34m[\u001b[0m\u001b[0;34m'sequence'\u001b[0m\u001b[0;34m]\u001b[0m\u001b[0;34m.\u001b[0m\u001b[0miloc\u001b[0m\u001b[0;34m[\u001b[0m\u001b[0;36m0\u001b[0m\u001b[0;34m:\u001b[0m\u001b[0;36m11\u001b[0m\u001b[0;34m]\u001b[0m\u001b[0;34m)\u001b[0m\u001b[0;34m\u001b[0m\u001b[0;34m\u001b[0m\u001b[0m\n\u001b[0m",
      "\u001b[0;31mNameError\u001b[0m: name 'encoded' is not defined"
     ]
    }
   ],
   "source": [
    "calc_moving_hudson_fst(encoded['sequence'].iloc[0:11])"
   ]
  }
 ],
 "metadata": {
  "kernelspec": {
   "display_name": "Python 3",
   "language": "python",
   "name": "python3"
  },
  "language_info": {
   "codemirror_mode": {
    "name": "ipython",
    "version": 3
   },
   "file_extension": ".py",
   "mimetype": "text/x-python",
   "name": "python",
   "nbconvert_exporter": "python",
   "pygments_lexer": "ipython3",
   "version": "3.8.8"
  }
 },
 "nbformat": 4,
 "nbformat_minor": 5
}
