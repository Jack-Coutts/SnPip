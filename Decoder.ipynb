{
 "cells": [
  {
   "cell_type": "markdown",
   "id": "057c81ff-a665-46ad-bd58-8f603ed01afa",
   "metadata": {},
   "source": [
    "# Genotype information decoder"
   ]
  },
  {
   "cell_type": "code",
   "execution_count": 71,
   "id": "bccbedd8-1c80-489c-a5b9-418e46d6f220",
   "metadata": {},
   "outputs": [],
   "source": [
    "# Sample dictionary \n",
    "\n",
    "sdict = {0:'Sample1',\n",
    "         1:'Sample2',\n",
    "         2:'Sample3',\n",
    "         3:'Sample4',\n",
    "         4:'Sample5',\n",
    "         5:'Sample6',\n",
    "         6:'Sample7',\n",
    "         7:'Sample8',\n",
    "         8:'Sample9',\n",
    "         9:'Sample10',\n",
    "         10:'Sample11'\n",
    "        }\n"
   ]
  },
  {
   "cell_type": "code",
   "execution_count": 72,
   "id": "aa3e2ce8-539e-4b1c-a514-9eef20540d3f",
   "metadata": {},
   "outputs": [],
   "source": [
    "# Genotype dictionary\n",
    "\n",
    "gdict = {'a':'1|1',\n",
    "         'b':'1|0',\n",
    "         'c':'0|1',\n",
    "         'd':'0|0',\n",
    "         'e':'1/1',\n",
    "         'f':'1/0',\n",
    "         'g':'0/1',\n",
    "         'h':'0/0'\n",
    "        }\n"
   ]
  },
  {
   "cell_type": "code",
   "execution_count": 73,
   "id": "4de3b011-ea5f-456e-baf1-8f67ad8e6ebf",
   "metadata": {},
   "outputs": [],
   "source": [
    "# A string to test the decoder\n",
    "\n",
    "testentry = 'abcgghheddb'\n"
   ]
  },
  {
   "cell_type": "code",
   "execution_count": 74,
   "id": "48e5850e-7a31-4750-b750-922e662bd3b5",
   "metadata": {},
   "outputs": [],
   "source": [
    "# decoder\n",
    "\n",
    "def decoder(string):\n",
    "    \n",
    "    length=len(string)\n",
    "    count = 0\n",
    "    \n",
    "    dictionary = {}\n",
    "    while count < length:\n",
    "        \n",
    "         \n",
    "        sample = sdict[count]\n",
    "        geno = gdict[string[count]]\n",
    "        dictionary[sample]=geno\n",
    "        count+=1 \n",
    "\n",
    "    return dictionary\n"
   ]
  },
  {
   "cell_type": "markdown",
   "id": "4ab34346-4a1d-47a9-9301-5801fa5daac9",
   "metadata": {},
   "source": [
    "### Create Sample dictionary"
   ]
  },
  {
   "cell_type": "code",
   "execution_count": 75,
   "id": "29804d0c-eada-4eaf-b557-7d8581cc6725",
   "metadata": {},
   "outputs": [],
   "source": [
    "# VCF parser to obtain samples \n",
    "\n",
    "def parser(filename):\n",
    "    \n",
    "    with open(filename) as vcf:\n",
    "        \n",
    "        for line in vcf:\n",
    "            \n",
    "            if line.strip().startswith(\"##\"):\n",
    "                pass\n",
    "            \n",
    "            elif line.strip().startswith(\"#\"):\n",
    "                \n",
    "                lst=line.split('\\t')\n",
    "\n",
    "            else:\n",
    "                pass\n",
    "    return lst\n",
    "\n",
    "\n"
   ]
  },
  {
   "cell_type": "code",
   "execution_count": 76,
   "id": "e70dd8d5-9292-4c02-b40d-6c75742c9b02",
   "metadata": {},
   "outputs": [],
   "source": [
    "# Create dictionary of samples and order\n",
    "\n",
    "samples = parser('chr22.VCF')"
   ]
  },
  {
   "cell_type": "code",
   "execution_count": 77,
   "id": "a260fefa-4aec-4688-9765-d1b1987f92c3",
   "metadata": {},
   "outputs": [],
   "source": [
    "# Remove non-sample items from list\n",
    "\n",
    "del samples[0:9]"
   ]
  },
  {
   "cell_type": "code",
   "execution_count": 78,
   "id": "18e2b79c-1ab8-4387-8b75-e98dfe2213dd",
   "metadata": {},
   "outputs": [],
   "source": [
    "# add samples and order to dictionary\n",
    "\n",
    "d_keys = list(range(len(samples)))\n",
    "\n",
    "d_values = samples\n",
    "\n",
    "sdict = {d_keys[i]: d_values[i] for i in range(len(d_keys))}\n"
   ]
  },
  {
   "cell_type": "code",
   "execution_count": 79,
   "id": "77431988-6253-4b17-88d2-ace09eb239c3",
   "metadata": {},
   "outputs": [
    {
     "data": {
      "text/plain": [
       "{'HG00096': '1|1',\n",
       " 'HG00097': '1|0',\n",
       " 'HG00099': '0|1',\n",
       " 'HG00100': '0/1',\n",
       " 'HG00101': '0/1',\n",
       " 'HG00102': '0/0',\n",
       " 'HG00103': '0/0',\n",
       " 'HG00105': '1/1',\n",
       " 'HG00106': '0|0',\n",
       " 'HG00107': '0|0',\n",
       " 'HG00108': '1|0'}"
      ]
     },
     "execution_count": 79,
     "metadata": {},
     "output_type": "execute_result"
    }
   ],
   "source": [
    "# Final dictionary test\n",
    "\n",
    "decoder(testentry)\n"
   ]
  },
  {
   "cell_type": "code",
   "execution_count": null,
   "id": "a3f4c615-c13d-46c7-a2d9-68bc9f569d56",
   "metadata": {},
   "outputs": [],
   "source": []
  }
 ],
 "metadata": {
  "kernelspec": {
   "display_name": "Python 3 (ipykernel)",
   "language": "python",
   "name": "python3"
  },
  "language_info": {
   "codemirror_mode": {
    "name": "ipython",
    "version": 3
   },
   "file_extension": ".py",
   "mimetype": "text/x-python",
   "name": "python",
   "nbconvert_exporter": "python",
   "pygments_lexer": "ipython3",
   "version": "3.8.12"
  }
 },
 "nbformat": 4,
 "nbformat_minor": 5
}
