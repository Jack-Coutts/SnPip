{
 "cells": [
  {
   "cell_type": "markdown",
   "id": "057c81ff-a665-46ad-bd58-8f603ed01afa",
   "metadata": {},
   "source": [
    "# Genotype information decoder"
   ]
  },
  {
   "cell_type": "code",
   "execution_count": 59,
   "id": "bccbedd8-1c80-489c-a5b9-418e46d6f220",
   "metadata": {},
   "outputs": [],
   "source": [
    "# Sample dictionary \n",
    "\n",
    "sdict = {'0':'Sample1',\n",
    "         '1':'Sample2',\n",
    "         '2':'Sample3',\n",
    "         '3':'Sample4',\n",
    "         '4':'Sample5',\n",
    "         '5':'Sample6',\n",
    "         '6':'Sample7',\n",
    "         '7':'Sample8',\n",
    "         '8':'Sample9',\n",
    "         '9':'Sample10',\n",
    "         '10':'Sample11'\n",
    "        }\n"
   ]
  },
  {
   "cell_type": "code",
   "execution_count": 60,
   "id": "aa3e2ce8-539e-4b1c-a514-9eef20540d3f",
   "metadata": {},
   "outputs": [],
   "source": [
    "# Genotype dictionary\n",
    "\n",
    "gdict = {'a':'1|1',\n",
    "         'b':'1|0',\n",
    "         'c':'0|1',\n",
    "         'd':'0|0',\n",
    "         'e':'1/1',\n",
    "         'f':'1/0',\n",
    "         'g':'0/1',\n",
    "         'h':'0/0'\n",
    "        }\n"
   ]
  },
  {
   "cell_type": "code",
   "execution_count": 61,
   "id": "4de3b011-ea5f-456e-baf1-8f67ad8e6ebf",
   "metadata": {},
   "outputs": [],
   "source": [
    "# A string to test the decoder\n",
    "\n",
    "testentry = 'abcgghheddb'\n"
   ]
  },
  {
   "cell_type": "code",
   "execution_count": 62,
   "id": "48e5850e-7a31-4750-b750-922e662bd3b5",
   "metadata": {},
   "outputs": [
    {
     "data": {
      "text/plain": [
       "{'Sample1': '1|1',\n",
       " 'Sample2': '1|0',\n",
       " 'Sample3': '0|1',\n",
       " 'Sample4': '0/1',\n",
       " 'Sample5': '0/1',\n",
       " 'Sample6': '0/0',\n",
       " 'Sample7': '0/0',\n",
       " 'Sample8': '1/1',\n",
       " 'Sample9': '0|0',\n",
       " 'Sample10': '0|0',\n",
       " 'Sample11': '1|0'}"
      ]
     },
     "execution_count": 62,
     "metadata": {},
     "output_type": "execute_result"
    }
   ],
   "source": [
    "# decoder\n",
    "\n",
    "def decoder(string):\n",
    "    \n",
    "    length=len(string)\n",
    "    count = 0\n",
    "    \n",
    "    dictionary = {}\n",
    "    while count < length:\n",
    "        \n",
    "         \n",
    "        sample = sdict[str(count)]\n",
    "        geno = gdict[string[count]]\n",
    "        dictionary[sample]=geno\n",
    "        count+=1 \n",
    "\n",
    "    return dictionary\n",
    "\n",
    "        \n",
    "    \n",
    "decoder(testentry)\n",
    "\n"
   ]
  },
  {
   "cell_type": "code",
   "execution_count": null,
   "id": "99b9c2e4-9d15-4a6c-a3a7-1b3c05ccac42",
   "metadata": {},
   "outputs": [],
   "source": []
  },
  {
   "cell_type": "code",
   "execution_count": null,
   "id": "29804d0c-eada-4eaf-b557-7d8581cc6725",
   "metadata": {},
   "outputs": [],
   "source": []
  }
 ],
 "metadata": {
  "kernelspec": {
   "display_name": "Python 3 (ipykernel)",
   "language": "python",
   "name": "python3"
  },
  "language_info": {
   "codemirror_mode": {
    "name": "ipython",
    "version": 3
   },
   "file_extension": ".py",
   "mimetype": "text/x-python",
   "name": "python",
   "nbconvert_exporter": "python",
   "pygments_lexer": "ipython3",
   "version": "3.8.12"
  }
 },
 "nbformat": 4,
 "nbformat_minor": 5
}
