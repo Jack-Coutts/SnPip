{
 "cells": [
  {
   "cell_type": "code",
   "execution_count": 7,
   "id": "723fba04",
   "metadata": {},
   "outputs": [],
   "source": [
    "import allel\n",
    "import numpy as np\n",
    "import pandas as pd\n",
    "from itertools import combinations"
   ]
  },
  {
   "cell_type": "code",
   "execution_count": 2,
   "id": "e41230ab",
   "metadata": {},
   "outputs": [
    {
     "data": {
      "text/html": [
       "<div>\n",
       "<style scoped>\n",
       "    .dataframe tbody tr th:only-of-type {\n",
       "        vertical-align: middle;\n",
       "    }\n",
       "\n",
       "    .dataframe tbody tr th {\n",
       "        vertical-align: top;\n",
       "    }\n",
       "\n",
       "    .dataframe thead th {\n",
       "        text-align: right;\n",
       "    }\n",
       "</style>\n",
       "<table border=\"1\" class=\"dataframe\">\n",
       "  <thead>\n",
       "    <tr style=\"text-align: right;\">\n",
       "      <th></th>\n",
       "      <th>rsID</th>\n",
       "      <th>sequence</th>\n",
       "    </tr>\n",
       "  </thead>\n",
       "  <tbody>\n",
       "    <tr>\n",
       "      <th>0</th>\n",
       "      <td>rs577013928</td>\n",
       "      <td>ttttttttttttttttttttttttttttttttttttttttttttt...</td>\n",
       "    </tr>\n",
       "    <tr>\n",
       "      <th>1</th>\n",
       "      <td>rs565082899</td>\n",
       "      <td>ttttttttttttttttttttttttttttttttttttttttttttt...</td>\n",
       "    </tr>\n",
       "    <tr>\n",
       "      <th>2</th>\n",
       "      <td>rs540382744</td>\n",
       "      <td>ttttttttttttttttttttttttttttttttttttttttttttt...</td>\n",
       "    </tr>\n",
       "    <tr>\n",
       "      <th>3</th>\n",
       "      <td>rs573244332</td>\n",
       "      <td>ttttttttttttttttttttttttttttttttttttttttttttt...</td>\n",
       "    </tr>\n",
       "    <tr>\n",
       "      <th>4</th>\n",
       "      <td>rs539162497</td>\n",
       "      <td>ttttttttttttttttttttttttttttttttttttttttttttt...</td>\n",
       "    </tr>\n",
       "  </tbody>\n",
       "</table>\n",
       "</div>"
      ],
      "text/plain": [
       "          rsID                                           sequence\n",
       "0  rs577013928   ttttttttttttttttttttttttttttttttttttttttttttt...\n",
       "1  rs565082899   ttttttttttttttttttttttttttttttttttttttttttttt...\n",
       "2  rs540382744   ttttttttttttttttttttttttttttttttttttttttttttt...\n",
       "3  rs573244332   ttttttttttttttttttttttttttttttttttttttttttttt...\n",
       "4  rs539162497   ttttttttttttttttttttttttttttttttttttttttttttt..."
      ]
     },
     "execution_count": 2,
     "metadata": {},
     "output_type": "execute_result"
    }
   ],
   "source": [
    "encoded = pd.read_csv(\"encoded.csv\", header=0, names=['rsID', 'sequence'])\n",
    "encoded.head()"
   ]
  },
  {
   "cell_type": "code",
   "execution_count": 3,
   "id": "ce45fb60",
   "metadata": {},
   "outputs": [],
   "source": [
    "def makeArray(strings):\n",
    "    \n",
    "    # initialize sample array with empty list\n",
    "    bebG, cheG, esnG, gbrG, pelG = [], [], [], [], []\n",
    "    bebH, cheH, esnH, gbrH, pelH = [], [], [], [], []\n",
    "    \n",
    "    # swap the keys and values in the dictionary below\n",
    "    nested_dictionary = {'GBR':{'e':'a', 'f':'b', 'g':'c', 'h': 'd'},\n",
    "                         'PEL':{'i':'a', 'j':'b', 'k':'c', 'l': 'd'},\n",
    "                         'ESN':{'m':'a', 'n':'b', 'o':'c', 'p': 'd'},\n",
    "                         'BEB':{'q':'a', 'r':'b', 's':'c', 't': 'd'},\n",
    "                         'CHE':{'u':'a', 'v':'b', 'w':'c', 'x': 'd'}}\n",
    "\n",
    "    ginfo = {'a':'1|0', 'b':'1|1', 'c':'0|1', 'd':'0|0'}\n",
    "\n",
    "    dic = {'e':'GBR', 'f':'GBR', 'g':'GBR', 'h':'GBR',\n",
    "           'i':'PEL', 'j':'PEL', 'k':'PEL', 'l':'PEL',\n",
    "           'm':'ESN', 'n':'ESN', 'o':'ESN', 'p':'ESN',\n",
    "           'q':'BEB', 'r':'BEB', 's':'BEB', 't':'BEB',\n",
    "           'u':'CHE', 'v':'CHE', 'w':'CHE', 'x':'CHE'}\n",
    "\n",
    "    for string in strings:\n",
    "        string = string.strip()\n",
    "        genotypes = {}\n",
    "        N = len(string)\n",
    "         # initialize haplotype dictionary with 462 zeros for each sample\n",
    "        haplotypes = {'BEB':[0]*N, 'CHE':[0]*N, 'ESN':[0]*N, 'GBR':[0]*N, 'PEL':[0]*N}\n",
    "\n",
    "        for i, c in enumerate(string):\n",
    "            # take sample as key and 0|1 etc as value\n",
    "            genotypes.setdefault(dic[c], []).append(ginfo[nested_dictionary[dic[c]][c]])\n",
    "            # set 1 in which position sample present\n",
    "            haplotypes[dic[c]][i] = 1\n",
    "\n",
    "        # sort dictionary alphabetically\n",
    "        genotypes = dict(sorted(genotypes.items(), key = lambda x:x[0].lower()))\n",
    "        # split each 0|1 etc by | and make a list,,,thus apply on each sample\n",
    "        genotype_array = [[list(map(int, v.split('|'))) for v in val] for val in genotypes.values()]\n",
    "        # create haplotype array\n",
    "        haplotype_array = [val for val in haplotypes.values()]\n",
    "\n",
    "        # extracting genotype array samples\n",
    "        bebG.append(genotype_array[0])\n",
    "        cheG.append(genotype_array[1])\n",
    "        esnG.append(genotype_array[2])\n",
    "        gbrG.append(genotype_array[3])\n",
    "        pelG.append(genotype_array[4])\n",
    "        \n",
    "        # extracting haplotype array samples\n",
    "        bebH.append(haplotype_array[0])\n",
    "        cheH.append(haplotype_array[1])\n",
    "        esnH.append(haplotype_array[2])\n",
    "        gbrH.append(haplotype_array[3])\n",
    "        pelH.append(haplotype_array[4])\n",
    "        \n",
    "    return (bebG, cheG, esnG, gbrG, pelG)"
   ]
  },
  {
   "cell_type": "code",
   "execution_count": 4,
   "id": "9c663b40",
   "metadata": {},
   "outputs": [],
   "source": [
    "# passing first 3 sequences into makeArray function\n",
    "g = makeArray(encoded['sequence'].iloc[100:200]) # we can pass a list inside the function as [snp1, snp2, snp3, ...]\n",
    "\n",
    "# extract genotype array into samples\n",
    "bebG, cheG, esnG, gbrG, pelG = g\n",
    "\n",
    "# extract haplotype array into samples\n",
    "# bebH, cheH, esnH, gbrH, pelH = h"
   ]
  },
  {
   "cell_type": "markdown",
   "id": "3c1f446b",
   "metadata": {},
   "source": [
    "## Haplotype Diversity\n",
    "\n",
    "These function calculate an estimate of Haplotype Diversity"
   ]
  },
  {
   "cell_type": "code",
   "execution_count": 5,
   "id": "844f0e78",
   "metadata": {},
   "outputs": [],
   "source": [
    "def haplotype_diversity(strings):\n",
    "    # passing sequences into makeArray function\n",
    "    g = makeArray(strings)\n",
    "    # extract genotype array into samples\n",
    "    bebG, cheG, esnG, gbrG, pelG = g\n",
    "    \n",
    "    haplotype_diversity = {}\n",
    "    \n",
    "    # for each population calculate haplotype diversity\n",
    "    for pair,val in zip( combinations(['bebG','cheG','esnG','gbrG','pelG'],1), combinations([bebG,cheG,esnG,gbrG,pelG],1)):\n",
    "        \n",
    "        # biuld genotype array of list of genotypes\n",
    "        g = allel.GenotypeArray(val[0])\n",
    "        \n",
    "        # convert genotype array into haplotype array\n",
    "        haplo = g.to_haplotypes()\n",
    "        \n",
    "        #calculate haplotype_diversity inside the region selected\n",
    "        div = allel.haplotype_diversity(haplo)\n",
    "    \n",
    "        # update dictionary for returning\n",
    "        haplotype_diversity.update({str(pair).strip(\"(''),\") : div})\n",
    "    \n",
    "    return haplotype_diversity"
   ]
  },
  {
   "cell_type": "markdown",
   "id": "9ae5225e",
   "metadata": {},
   "source": [
    "#### 4 SNP region \n",
    "all of the are most likely only 0|0"
   ]
  },
  {
   "cell_type": "code",
   "execution_count": 16,
   "id": "da076249",
   "metadata": {
    "scrolled": true
   },
   "outputs": [
    {
     "data": {
      "text/plain": [
       "{'bebG': 0.0, 'cheG': 0.0, 'esnG': 0.0, 'gbrG': 0.0, 'pelG': 0.0}"
      ]
     },
     "execution_count": 16,
     "metadata": {},
     "output_type": "execute_result"
    }
   ],
   "source": [
    "haplotype_diversity(encoded['sequence'].iloc[0:4])\n",
    "\n"
   ]
  },
  {
   "cell_type": "markdown",
   "id": "8635da0b",
   "metadata": {},
   "source": [
    "#### 6 SNP region"
   ]
  },
  {
   "cell_type": "code",
   "execution_count": 17,
   "id": "341bc520",
   "metadata": {},
   "outputs": [
    {
     "data": {
      "text/plain": [
       "{'bebG': 0.0,\n",
       " 'cheG': 0.0,\n",
       " 'esnG': 0.010101010101010152,\n",
       " 'gbrG': 0.0,\n",
       " 'pelG': 0.0}"
      ]
     },
     "execution_count": 17,
     "metadata": {},
     "output_type": "execute_result"
    }
   ],
   "source": [
    "haplotype_diversity(encoded['sequence'].iloc[4:10])\n",
    "\n"
   ]
  },
  {
   "cell_type": "markdown",
   "id": "ecaa84a8",
   "metadata": {},
   "source": [
    "#### 2 SNP region with lots of 1|1, 1|0 etc..."
   ]
  },
  {
   "cell_type": "code",
   "execution_count": 24,
   "id": "ba49936f",
   "metadata": {},
   "outputs": [
    {
     "data": {
      "text/plain": [
       "{'bebG': 0.39412484700122413,\n",
       " 'cheG': 0.49031494198437137,\n",
       " 'esnG': 0.4163462031482336,\n",
       " 'gbrG': 0.19786291057009295,\n",
       " 'pelG': 0.4722589627567003}"
      ]
     },
     "execution_count": 24,
     "metadata": {},
     "output_type": "execute_result"
    }
   ],
   "source": [
    "haplotype_diversity(encoded['sequence'].iloc[11:13])\n",
    "\n"
   ]
  },
  {
   "cell_type": "markdown",
   "id": "c1f6bac9",
   "metadata": {},
   "source": [
    "#### 100 SNP region\n",
    "\n",
    "values differ more"
   ]
  },
  {
   "cell_type": "code",
   "execution_count": 8,
   "id": "9981f558",
   "metadata": {
    "scrolled": true
   },
   "outputs": [
    {
     "data": {
      "text/plain": [
       "{'bebG': 0.6223310213518293,\n",
       " 'cheG': 0.48496329623490403,\n",
       " 'esnG': 0.9390350202532943,\n",
       " 'gbrG': 0.8314613563232347,\n",
       " 'pelG': 0.7495997215454231}"
      ]
     },
     "execution_count": 8,
     "metadata": {},
     "output_type": "execute_result"
    }
   ],
   "source": [
    "haplotype_diversity(encoded['sequence'].iloc[100:200])\n",
    "\n"
   ]
  },
  {
   "cell_type": "markdown",
   "id": "a92ba1ab",
   "metadata": {},
   "source": [
    "#### 1000 SNP region\n",
    "\n",
    "Values nearly 1"
   ]
  },
  {
   "cell_type": "code",
   "execution_count": 11,
   "id": "56a54465",
   "metadata": {
    "scrolled": true
   },
   "outputs": [
    {
     "data": {
      "text/plain": [
       "{'bebG': 0.9812321501427989,\n",
       " 'cheG': 0.9846080985081695,\n",
       " 'esnG': 0.9865148951443368,\n",
       " 'gbrG': 0.9803290632019914,\n",
       " 'pelG': 0.9429864253393666}"
      ]
     },
     "execution_count": 11,
     "metadata": {},
     "output_type": "execute_result"
    }
   ],
   "source": [
    "haplotype_diversity(encoded['sequence'].iloc[1000:2000])\n",
    "\n"
   ]
  },
  {
   "cell_type": "markdown",
   "id": "8e897e3d",
   "metadata": {},
   "source": [
    "#### 19k SNP region\n",
    "Values = 1\n",
    "\n"
   ]
  },
  {
   "cell_type": "code",
   "execution_count": 12,
   "id": "ce6cc87d",
   "metadata": {},
   "outputs": [
    {
     "data": {
      "text/plain": [
       "{'bebG': 1.0, 'cheG': 1.0, 'esnG': 1.0, 'gbrG': 1.0, 'pelG': 1.0}"
      ]
     },
     "execution_count": 12,
     "metadata": {},
     "output_type": "execute_result"
    }
   ],
   "source": [
    "haplotype_diversity(encoded['sequence'].iloc[1000:20000])\n",
    "\n"
   ]
  },
  {
   "cell_type": "markdown",
   "id": "c96d6166",
   "metadata": {},
   "source": [
    "## Moving Haplotype Diversity"
   ]
  },
  {
   "cell_type": "code",
   "execution_count": 14,
   "id": "8ae9ed14",
   "metadata": {},
   "outputs": [],
   "source": [
    "def moving_haplotype_diversity(strings):\n",
    "    # passing sequences into makeArray function\n",
    "    g = makeArray(strings)\n",
    "    # extract genotype array into samples\n",
    "    bebG, cheG, esnG, gbrG, pelG = g\n",
    "    \n",
    "    haplotype_diversity = {}\n",
    "    \n",
    "    # for each population calculate haplotype diversity\n",
    "    for pair,val in zip( combinations(['bebG','cheG','esnG','gbrG','pelG'],1), combinations([bebG,cheG,esnG,gbrG,pelG],1)):\n",
    "        \n",
    "        # biuld genotype array of list of genotypes\n",
    "        g = allel.GenotypeArray(val[0])\n",
    "        \n",
    "        # convert genotype array into haplotype array\n",
    "        haplo = g.to_haplotypes()\n",
    "        \n",
    "        #calculate haplotype_diversity inside the region selected\n",
    "        div = allel.moving_haplotype_diversity(haplo, 500)\n",
    "        \n",
    "        # update dictionary for returning\n",
    "        haplotype_diversity.update({str(pair).strip(\"(''),\") : div})\n",
    "    \n",
    "    return haplotype_diversity"
   ]
  },
  {
   "cell_type": "markdown",
   "id": "4edfdf4f",
   "metadata": {},
   "source": [
    "#### 100 SNP region\n",
    "\n",
    "with 25 snps window"
   ]
  },
  {
   "cell_type": "code",
   "execution_count": 10,
   "id": "a361a536",
   "metadata": {
    "scrolled": true
   },
   "outputs": [
    {
     "data": {
      "text/plain": [
       "{'bebG': array([0.3498572 , 0.46838025, 0.23453012, 0.27410581]),\n",
       " 'cheG': array([0.10286526, 0.38493962, 0.34719394, 0.33393322]),\n",
       " 'esnG': array([0.64682357, 0.87709583, 0.60103574, 0.1976619 ]),\n",
       " 'gbrG': array([0.43731407, 0.65229798, 0.23022282, 0.55977172]),\n",
       " 'pelG': array([0.56950922, 0.53233554, 0.11200835, 0.22784546])}"
      ]
     },
     "execution_count": 10,
     "metadata": {},
     "output_type": "execute_result"
    }
   ],
   "source": [
    "\n",
    "\n",
    "moving_haplotype_diversity(encoded['sequence'].iloc[100:200])\n",
    "\n"
   ]
  },
  {
   "cell_type": "markdown",
   "id": "15b64ddb",
   "metadata": {},
   "source": [
    "#### 1000 SNP region\n",
    "with 25 snps window"
   ]
  },
  {
   "cell_type": "code",
   "execution_count": 13,
   "id": "81d45fdc",
   "metadata": {
    "scrolled": true
   },
   "outputs": [
    {
     "data": {
      "text/plain": [
       "{'bebG': array([0.3119135 , 0.        , 0.62015504, 0.69386645, 0.01162791,\n",
       "        0.54141167, 0.04603563, 0.20916633, 0.        , 0.68203454,\n",
       "        0.1121991 , 0.73534612, 0.54222766, 0.49578403, 0.64776282,\n",
       "        0.38283694, 0.01162791, 0.07853937, 0.52638379, 0.40248878,\n",
       "        0.01162791, 0.45525636, 0.01162791, 0.60397117, 0.70433837,\n",
       "        0.5248878 , 0.39419285, 0.60165919, 0.28967768, 0.43825649,\n",
       "        0.55637155, 0.02318781, 0.16109071, 0.02311982, 0.76968584,\n",
       "        0.02318781, 0.56922345, 0.65347477, 0.60988712, 0.09037128]),\n",
       " 'cheG': array([0.38034573, 0.        , 0.66483543, 0.66819796, 0.00970874,\n",
       "        0.52450864, 0.18816008, 0.35917594, 0.16107033, 0.64106086,\n",
       "        0.16987923, 0.75808667, 0.47951693, 0.33341227, 0.59829505,\n",
       "        0.2500592 , 0.00970874, 0.15292446, 0.51991475, 0.25834715,\n",
       "        0.01937012, 0.2500592 , 0.04792801, 0.26654037, 0.611982  ,\n",
       "        0.33175468, 0.25271134, 0.60520957, 0.3318494 , 0.36130713,\n",
       "        0.50144447, 0.00970874, 0.32540848, 0.00970874, 0.73293867,\n",
       "        0.00970874, 0.61453943, 0.56500118, 0.50272318, 0.02884206]),\n",
       " 'esnG': array([0.24960263, 0.0595293 , 0.70214839, 0.62328872, 0.07870584,\n",
       "        0.19894375, 0.19920012, 0.51720248, 0.30108188, 0.8130544 ,\n",
       "        0.03009793, 0.66707686, 0.48633544, 0.29831308, 0.66051377,\n",
       "        0.21201866, 0.11659745, 0.22114546, 0.65502743, 0.04968466,\n",
       "        0.11623853, 0.07829565, 0.16289802, 0.30467108, 0.62795467,\n",
       "        0.4256781 , 0.53330257, 0.59924114, 0.2512434 , 0.39747731,\n",
       "        0.5939599 , 0.12587807, 0.0980362 , 0.16387222, 0.45141773,\n",
       "        0.06937394, 0.4961288 , 0.30574783, 0.28241809, 0.24555197]),\n",
       " 'gbrG': array([0.47337745, 0.01098901, 0.46530265, 0.63639123, 0.06459839,\n",
       "        0.22008378, 0.04347034, 0.24625099, 0.01098901, 0.60858479,\n",
       "        0.08542286, 0.74974197, 0.46481695, 0.23987615, 0.64033756,\n",
       "        0.09610831, 0.01098901, 0.06411268, 0.30890656, 0.08566572,\n",
       "        0.03272418, 0.05397365, 0.        , 0.44095683, 0.62607006,\n",
       "        0.33586303, 0.15475685, 0.43512841, 0.405622  , 0.10618663,\n",
       "        0.50033392, 0.15536397, 0.16374234, 0.0218566 , 0.81567604,\n",
       "        0.1949487 , 0.38667962, 0.53524376, 0.5068909 , 0.04340963]),\n",
       " 'pelG': array([0.17257222, 0.03487644, 0.33560738, 0.7010094 , 0.10184476,\n",
       "        0.56087713, 0.06849983, 0.10226244, 0.4326488 , 0.6076575 ,\n",
       "        0.15377654, 0.64719805, 0.49683258, 0.196937  , 0.56700313,\n",
       "        0.13275322, 0.        , 0.23438914, 0.23647755, 0.13275322,\n",
       "        0.01176471, 0.14368256, 0.02339018, 0.60556909, 0.6249913 ,\n",
       "        0.50149669, 0.19638009, 0.31855204, 0.17354682, 0.28513749,\n",
       "        0.51722938, 0.06926558, 0.12175426, 0.        , 0.72384267,\n",
       "        0.10295858, 0.29014967, 0.53351897, 0.48513749, 0.05770971])}"
      ]
     },
     "execution_count": 13,
     "metadata": {},
     "output_type": "execute_result"
    }
   ],
   "source": [
    "moving_haplotype_diversity(encoded['sequence'].iloc[1000:2000])\n",
    "\n"
   ]
  },
  {
   "cell_type": "markdown",
   "id": "70085502",
   "metadata": {},
   "source": [
    "### 19000 SNPs region (window size changed to 500 for this)\n",
    "cause with 25 it would be a mess.\n",
    "\n",
    "\n",
    "\n",
    "As you can see the values in windows of 500 are getting very close to 1"
   ]
  },
  {
   "cell_type": "code",
   "execution_count": 15,
   "id": "871c2c9d",
   "metadata": {
    "scrolled": true
   },
   "outputs": [
    {
     "data": {
      "text/plain": [
       "{'bebG': array([0.92846457, 0.95920033, 0.95321637, 0.98306814, 0.96627227,\n",
       "        0.94498844, 0.97171223, 0.94573643, 0.97327621, 0.999592  ,\n",
       "        0.99966   , 0.97572419, 0.999932  , 0.999864  , 0.999524  ,\n",
       "        0.99870801, 0.999728  , 0.999592  , 0.96858425, 0.97599619,\n",
       "        0.98551612, 0.96858425, 0.94104447, 0.98966408, 0.999456  ,\n",
       "        0.99728002, 0.93172855, 0.92166463, 0.98844009, 0.96362029,\n",
       "        0.98918809, 0.97096423, 0.90527676, 0.9498164 , 0.96851625,\n",
       "        0.96328029, 0.94063647, 0.9128927 ]),\n",
       " 'cheG': array([0.96187544, 0.94283685, 0.9252664 , 0.98332939, 0.96907412,\n",
       "        0.91835188, 0.98304523, 0.92564528, 0.95216671, 0.99829505,\n",
       "        0.9997632 , 0.97537296, 0.99981056, 0.9995264 , 0.99763202,\n",
       "        0.99616386, 0.99943168, 0.99971584, 0.96220696, 0.96220696,\n",
       "        0.96973715, 0.9775515 , 0.95680796, 0.99180677, 0.9975373 ,\n",
       "        0.99853185, 0.92569264, 0.91565238, 0.98342411, 0.95316126,\n",
       "        0.96358039, 0.96078617, 0.95941274, 0.94847265, 0.95013024,\n",
       "        0.91039545, 0.88453706, 0.86199384]),\n",
       " 'esnG': array([0.96810747, 0.96339025, 0.97426037, 0.96523612, 0.95164846,\n",
       "        0.97754192, 0.96344152, 0.95636569, 0.9865149 , 0.99933344,\n",
       "        0.99984618, 0.9920525 , 0.99989745, 1.        , 0.99964108,\n",
       "        0.99882069, 0.99989745, 0.99984618, 0.98487412, 0.99194996,\n",
       "        0.99420602, 0.97928524, 0.97005589, 0.99210378, 0.99928216,\n",
       "        0.99912834, 0.95959596, 0.96000615, 0.99518023, 0.97174794,\n",
       "        0.99671845, 0.98697636, 0.95590422, 0.94411116, 0.96928678,\n",
       "        0.94385479, 0.94036815, 0.93149772]),\n",
       " 'gbrG': array([0.90285957, 0.96849007, 0.93175885, 0.97104001, 0.94936555,\n",
       "        0.93977293, 0.97158642, 0.93364094, 0.96685083, 0.99927145,\n",
       "        0.99975715, 0.96260093, 0.99975715, 0.99993929, 0.99872503,\n",
       "        0.9981179 , 0.99890717, 0.99981786, 0.91573068, 0.94450853,\n",
       "        0.98172546, 0.94262643, 0.88786352, 0.95762249, 0.99459656,\n",
       "        0.99538583, 0.91858418, 0.90662376, 0.98579321, 0.95361545,\n",
       "        0.98233258, 0.95907959, 0.84366462, 0.88185295, 0.94930484,\n",
       "        0.90984154, 0.9167628 , 0.86187845]),\n",
       " 'pelG': array([0.90274974, 0.89279499, 0.86822137, 0.95676993, 0.94110686,\n",
       "        0.92718413, 0.95690915, 0.83668639, 0.95008702, 0.99784198,\n",
       "        0.9995127 , 0.96756004, 0.99944309, 0.99993039, 0.99728507,\n",
       "        0.99255134, 0.9995127 , 0.99965193, 0.93386704, 0.97466063,\n",
       "        0.96665506, 0.94465715, 0.90894535, 0.93240515, 0.99498782,\n",
       "        0.99825966, 0.91514097, 0.9071354 , 0.9673512 , 0.91319179,\n",
       "        0.96881309, 0.91869126, 0.87497389, 0.87977724, 0.93282283,\n",
       "        0.89550992, 0.83230073, 0.85388096])}"
      ]
     },
     "execution_count": 15,
     "metadata": {},
     "output_type": "execute_result"
    }
   ],
   "source": [
    "moving_haplotype_diversity(encoded['sequence'].iloc[1000:20000])\n",
    "\n"
   ]
  },
  {
   "cell_type": "markdown",
   "id": "20056f36",
   "metadata": {},
   "source": [
    "### Conclusion\n",
    "\n",
    "The bigger the region the bigger the values cause the propability of picking two different alleles gets higher.\n",
    "The results should be correct the only issue I have rn is when I scroll through the VCF file I actually see so many 0|0 that it makes little sense to me, so I would say the propability gets lower for this. On the other hand it is just manualy scrolling and selecting the first 4 rsIDs makes the values very low which makes it valid in my opinion cause these are pretty only 0|0 for the most pops. In total I wouldnt expect these high values but when you look into google and papers there are often these high values presented. "
   ]
  }
 ],
 "metadata": {
  "kernelspec": {
   "display_name": "Python 3",
   "language": "python",
   "name": "python3"
  },
  "language_info": {
   "codemirror_mode": {
    "name": "ipython",
    "version": 3
   },
   "file_extension": ".py",
   "mimetype": "text/x-python",
   "name": "python",
   "nbconvert_exporter": "python",
   "pygments_lexer": "ipython3",
   "version": "3.8.8"
  }
 },
 "nbformat": 4,
 "nbformat_minor": 5
}
