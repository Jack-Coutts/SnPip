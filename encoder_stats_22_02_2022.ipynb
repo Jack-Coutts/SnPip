{
 "cells": [
  {
   "cell_type": "code",
   "execution_count": 1,
   "id": "702a49cb",
   "metadata": {},
   "outputs": [],
   "source": [
    "import numpy as np\n",
    "import pandas as pd\n",
    "import allel"
   ]
  },
  {
   "cell_type": "code",
   "execution_count": 2,
   "id": "95b4fd14",
   "metadata": {},
   "outputs": [
    {
     "data": {
      "text/html": [
       "<div>\n",
       "<style scoped>\n",
       "    .dataframe tbody tr th:only-of-type {\n",
       "        vertical-align: middle;\n",
       "    }\n",
       "\n",
       "    .dataframe tbody tr th {\n",
       "        vertical-align: top;\n",
       "    }\n",
       "\n",
       "    .dataframe thead th {\n",
       "        text-align: right;\n",
       "    }\n",
       "</style>\n",
       "<table border=\"1\" class=\"dataframe\">\n",
       "  <thead>\n",
       "    <tr style=\"text-align: right;\">\n",
       "      <th></th>\n",
       "      <th>rsID</th>\n",
       "      <th>sequence</th>\n",
       "    </tr>\n",
       "  </thead>\n",
       "  <tbody>\n",
       "    <tr>\n",
       "      <th>0</th>\n",
       "      <td>rs577013928</td>\n",
       "      <td>ttttttttttttttttttttttttttttttttttttttttttttt...</td>\n",
       "    </tr>\n",
       "    <tr>\n",
       "      <th>1</th>\n",
       "      <td>rs565082899</td>\n",
       "      <td>ttttttttttttttttttttttttttttttttttttttttttttt...</td>\n",
       "    </tr>\n",
       "    <tr>\n",
       "      <th>2</th>\n",
       "      <td>rs540382744</td>\n",
       "      <td>ttttttttttttttttttttttttttttttttttttttttttttt...</td>\n",
       "    </tr>\n",
       "    <tr>\n",
       "      <th>3</th>\n",
       "      <td>rs573244332</td>\n",
       "      <td>ttttttttttttttttttttttttttttttttttttttttttttt...</td>\n",
       "    </tr>\n",
       "    <tr>\n",
       "      <th>4</th>\n",
       "      <td>rs539162497</td>\n",
       "      <td>ttttttttttttttttttttttttttttttttttttttttttttt...</td>\n",
       "    </tr>\n",
       "  </tbody>\n",
       "</table>\n",
       "</div>"
      ],
      "text/plain": [
       "          rsID                                           sequence\n",
       "0  rs577013928   ttttttttttttttttttttttttttttttttttttttttttttt...\n",
       "1  rs565082899   ttttttttttttttttttttttttttttttttttttttttttttt...\n",
       "2  rs540382744   ttttttttttttttttttttttttttttttttttttttttttttt...\n",
       "3  rs573244332   ttttttttttttttttttttttttttttttttttttttttttttt...\n",
       "4  rs539162497   ttttttttttttttttttttttttttttttttttttttttttttt..."
      ]
     },
     "execution_count": 2,
     "metadata": {},
     "output_type": "execute_result"
    }
   ],
   "source": [
    "encoded = pd.read_csv(\"encoded.csv\", header=0, names=['rsID', 'sequence'])\n",
    "encoded.head()"
   ]
  },
  {
   "cell_type": "code",
   "execution_count": 3,
   "id": "431c391a",
   "metadata": {},
   "outputs": [],
   "source": [
    "def makeArray(strings):\n",
    "    \n",
    "    # initialize sample array with empty list\n",
    "    bebG, cheG, esnG, gbrG, pelG = [], [], [], [], []\n",
    "    bebH, cheH, esnH, gbrH, pelH = [], [], [], [], []\n",
    "    \n",
    "    # swap the keys and values in the dictionary below\n",
    "    nested_dictionary = {'GBR':{'e':'a', 'f':'b', 'g':'c', 'h': 'd'},\n",
    "                         'PEL':{'i':'a', 'j':'b', 'k':'c', 'l': 'd'},\n",
    "                         'ESN':{'m':'a', 'n':'b', 'o':'c', 'p': 'd'},\n",
    "                         'BEB':{'q':'a', 'r':'b', 's':'c', 't': 'd'},\n",
    "                         'CHE':{'u':'a', 'v':'b', 'w':'c', 'x': 'd'}}\n",
    "\n",
    "    ginfo = {'a':'1|0', 'b':'1|1', 'c':'0|1', 'd':'0|0'}\n",
    "\n",
    "    dic = {'e':'GBR', 'f':'GBR', 'g':'GBR', 'h':'GBR',\n",
    "           'i':'PEL', 'j':'PEL', 'k':'PEL', 'l':'PEL',\n",
    "           'm':'ESN', 'n':'ESN', 'o':'ESN', 'p':'ESN',\n",
    "           'q':'BEB', 'r':'BEB', 's':'BEB', 't':'BEB',\n",
    "           'u':'CHE', 'v':'CHE', 'w':'CHE', 'x':'CHE'}\n",
    "\n",
    "    for string in strings:\n",
    "        string = string.strip()\n",
    "        genotypes = {}\n",
    "        N = len(string)\n",
    "        # initialize haplotype dictionary with 462 zeros for each sample\n",
    "        haplotypes = {'BEB':[0]*N, 'CHE':[0]*N, 'ESN':[0]*N, 'GBR':[0]*N, 'PEL':[0]*N}\n",
    "\n",
    "        for i, c in enumerate(string):\n",
    "            # take sample as key and 0|1 etc as value\n",
    "            genotypes.setdefault(dic[c], []).append(ginfo[nested_dictionary[dic[c]][c]])\n",
    "            # set 1 in which position sample present\n",
    "            haplotypes[dic[c]][i] = 1\n",
    "\n",
    "        # sort dictionary alphabetically\n",
    "        genotypes = dict(sorted(genotypes.items(), key = lambda x:x[0].lower()))\n",
    "        # split each 0|1 etc by | and make a list,,,thus apply on each sample\n",
    "        genotype_array = [[list(map(int, v.split('|'))) for v in val] for val in genotypes.values()]\n",
    "        # create haplotype array\n",
    "        haplotype_array = [val for val in haplotypes.values()]\n",
    "\n",
    "        # extracting genotype array samples\n",
    "        bebG.append(genotype_array[0])\n",
    "        cheG.append(genotype_array[1])\n",
    "        esnG.append(genotype_array[2])\n",
    "        gbrG.append(genotype_array[3])\n",
    "        pelG.append(genotype_array[4])\n",
    "        \n",
    "        # extracting haplotype array samples\n",
    "        bebH.append(haplotype_array[0])\n",
    "        cheH.append(haplotype_array[1])\n",
    "        esnH.append(haplotype_array[2])\n",
    "        gbrH.append(haplotype_array[3])\n",
    "        pelH.append(haplotype_array[4])\n",
    "        \n",
    "    return (bebG, cheG, esnG, gbrG, pelG), (bebH, cheH, esnH, gbrH, pelH)"
   ]
  },
  {
   "cell_type": "code",
   "execution_count": 120,
   "id": "bd45c69a",
   "metadata": {},
   "outputs": [],
   "source": [
    "# passing first 3 sequences into makeArray function\n",
    "g, h = makeArray(encoded['sequence'].iloc[1:36]) # we can pass a list inside the function as [snp1, snp2, snp3, ...]\n",
    "\n",
    "# extract genotype array into samples\n",
    "bebG, cheG, esnG, gbrG, pelG = g\n",
    "\n",
    "# extract haplotype array into samples\n",
    "bebH, cheH, esnH, gbrH, pelH = h"
   ]
  },
  {
   "cell_type": "markdown",
   "id": "29b50fd0",
   "metadata": {},
   "source": [
    "### Hudson_Fst\n",
    "\n",
    "###### Allel count GT Arrays\n",
    "\n",
    "- ac1 GBR\n",
    "- ac2 BEB\n",
    "- ac3 PEL\n",
    "- ac4 CHB\n",
    "- ac5 ESN"
   ]
  },
  {
   "cell_type": "code",
   "execution_count": 124,
   "id": "940e289b",
   "metadata": {},
   "outputs": [],
   "source": [
    "def calc_hudson_fst(g1, g2):\n",
    "    genotype_array1 = allel.GenotypeArray(g1)\n",
    "    genotype_array2 = allel.GenotypeArray(g2)\n",
    "    ac1 = genotype_array1.count_alleles()\n",
    "    ac2 = genotype_array2.count_alleles()\n",
    "    num, den = allel.hudson_fst(ac1, ac2)\n",
    "    fst = np.sum(num) / np.sum(den)\n",
    "    return fst\n",
    "     \n",
    "        "
   ]
  },
  {
   "cell_type": "code",
   "execution_count": 122,
   "id": "c8bd0304",
   "metadata": {},
   "outputs": [
    {
     "data": {
      "text/plain": [
       "0.038761426036041435"
      ]
     },
     "execution_count": 122,
     "metadata": {},
     "output_type": "execute_result"
    }
   ],
   "source": [
    "calc_hudson_fst(gbrG, bebG)"
   ]
  },
  {
   "cell_type": "code",
   "execution_count": 138,
   "id": "5395bb96",
   "metadata": {},
   "outputs": [],
   "source": [
    "def calc_hudson_fst(g):  \n",
    "    genotype_array1 = allel.GenotypeArray(g[0])\n",
    "    genotype_array2 = allel.GenotypeArray(g[1])\n",
    "    ac1 = genotype_array1.count_alleles()\n",
    "    ac2 = genotype_array2.count_alleles()\n",
    "    num1, den1 = allel.hudson_fst(ac1, ac2)\n",
    "    fst1 = np.sum(num1) / np.sum(den1)\n",
    "\n",
    "    genotype_array1 = allel.GenotypeArray(g[0])\n",
    "    genotype_array2 = allel.GenotypeArray(g[2])\n",
    "    ac1 = genotype_array1.count_alleles()\n",
    "    ac2 = genotype_array2.count_alleles()\n",
    "    num1, den1 = allel.hudson_fst(ac1, ac2)\n",
    "    fst2 = np.sum(num1) / np.sum(den1)\n",
    "\n",
    "    genotype_array1 = allel.GenotypeArray(g[0])\n",
    "    genotype_array2 = allel.GenotypeArray(g[3])\n",
    "    ac1 = genotype_array1.count_alleles()\n",
    "    ac2 = genotype_array2.count_alleles()\n",
    "    num1, den1 = allel.hudson_fst(ac1, ac2)\n",
    "    fst3 = np.sum(num1) / np.sum(den1)\n",
    "\n",
    "    genotype_array1 = allel.GenotypeArray(g[0])\n",
    "    genotype_array2 = allel.GenotypeArray(g[4])\n",
    "    ac1 = genotype_array1.count_alleles()\n",
    "    ac2 = genotype_array2.count_alleles()\n",
    "    num1, den1 = allel.hudson_fst(ac1, ac2)\n",
    "    fst4 = np.sum(num1) / np.sum(den1)\n",
    "\n",
    "    genotype_array1 = allel.GenotypeArray(g[1])\n",
    "    genotype_array2 = allel.GenotypeArray(g[2])\n",
    "    ac1 = genotype_array1.count_alleles()\n",
    "    ac2 = genotype_array2.count_alleles()\n",
    "    num1, den1 = allel.hudson_fst(ac1, ac2)\n",
    "    fst5 = np.sum(num1) / np.sum(den1)\n",
    "\n",
    "    genotype_array1 = allel.GenotypeArray(g[1])\n",
    "    genotype_array2 = allel.GenotypeArray(g[3])\n",
    "    ac1 = genotype_array1.count_alleles()\n",
    "    ac2 = genotype_array2.count_alleles()\n",
    "    num1, den1 = allel.hudson_fst(ac1, ac2)\n",
    "    fst6 = np.sum(num1) / np.sum(den1)\n",
    "\n",
    "    genotype_array1 = allel.GenotypeArray(g[1])\n",
    "    genotype_array2 = allel.GenotypeArray(g[4])\n",
    "    ac1 = genotype_array1.count_alleles()\n",
    "    ac2 = genotype_array2.count_alleles()\n",
    "    num1, den1 = allel.hudson_fst(ac1, ac2)\n",
    "    fst7 = np.sum(num1) / np.sum(den1)\n",
    "\n",
    "    genotype_array1 = allel.GenotypeArray(g[2])\n",
    "    genotype_array2 = allel.GenotypeArray(g[3])\n",
    "    ac1 = genotype_array1.count_alleles()\n",
    "    ac2 = genotype_array2.count_alleles()\n",
    "    num1, den1 = allel.hudson_fst(ac1, ac2)\n",
    "    fst8 = np.sum(num1) / np.sum(den1)\n",
    "\n",
    "    genotype_array1 = allel.GenotypeArray(g[2])\n",
    "    genotype_array2 = allel.GenotypeArray(g[4])\n",
    "    ac1 = genotype_array1.count_alleles()\n",
    "    ac2 = genotype_array2.count_alleles()\n",
    "    num1, den1 = allel.hudson_fst(ac1, ac2)\n",
    "    fst9 = np.sum(num1) / np.sum(den1)\n",
    "\n",
    "    genotype_array1 = allel.GenotypeArray(g[3])\n",
    "    genotype_array2 = allel.GenotypeArray(g[4])\n",
    "    ac1 = genotype_array1.count_alleles()\n",
    "    ac2 = genotype_array2.count_alleles()\n",
    "    num1, den1 = allel.hudson_fst(ac1, ac2)\n",
    "    fst10 = np.sum(num1) / np.sum(den1)\n",
    "\n",
    "    return fst1, fst2, fst3, fst4, fst5, fst6, fst7, fst8, fst9, fst10"
   ]
  },
  {
   "cell_type": "code",
   "execution_count": 139,
   "id": "f208ef4f",
   "metadata": {},
   "outputs": [
    {
     "data": {
      "text/plain": [
       "(0.025776758769816985,\n",
       " 0.06423248562245433,\n",
       " 0.038761426036041435,\n",
       " 0.023094224232544584,\n",
       " 0.10746792936412862,\n",
       " 0.12433518262849666,\n",
       " 0.03191078619039487,\n",
       " 0.06410325174946345,\n",
       " 0.035221064391849376,\n",
       " 0.0756007809810408)"
      ]
     },
     "execution_count": 139,
     "metadata": {},
     "output_type": "execute_result"
    }
   ],
   "source": [
    "calc_hudson_fst(g)"
   ]
  },
  {
   "cell_type": "code",
   "execution_count": 59,
   "id": "d7de1f7e",
   "metadata": {},
   "outputs": [
    {
     "data": {
      "text/plain": [
       "0.038761426036041435"
      ]
     },
     "execution_count": 59,
     "metadata": {},
     "output_type": "execute_result"
    }
   ],
   "source": [
    "# Gbr vs Beb\n",
    "gbrG_GA = allel.GenotypeArray(gbrG)\n",
    "bebG_GA = allel.GenotypeArray(bebG)\n",
    "ac1 = gbrG_GA.count_alleles()\n",
    "ac2 = bebG_GA.count_alleles()\n",
    "num, den = allel.hudson_fst(ac1, ac2)\n",
    "fst = np.sum(num) / np.sum(den)\n",
    "fst"
   ]
  },
  {
   "cell_type": "code",
   "execution_count": 60,
   "id": "23e149c5",
   "metadata": {},
   "outputs": [
    {
     "data": {
      "text/plain": [
       "0.0756007809810408"
      ]
     },
     "execution_count": 60,
     "metadata": {},
     "output_type": "execute_result"
    }
   ],
   "source": [
    "# Gbr vs Pel\n",
    "pelG_GA = allel.GenotypeArray(pelG)\n",
    "ac1 = gbrG_GA.count_alleles()\n",
    "ac3 = pelG_GA.count_alleles()\n",
    "num, den = allel.hudson_fst(ac1, ac3)\n",
    "fst = np.sum(num) / np.sum(den)\n",
    "fst"
   ]
  },
  {
   "cell_type": "code",
   "execution_count": 61,
   "id": "96638af9",
   "metadata": {},
   "outputs": [
    {
     "data": {
      "text/plain": [
       "0.12433518262849666"
      ]
     },
     "execution_count": 61,
     "metadata": {},
     "output_type": "execute_result"
    }
   ],
   "source": [
    "# Gbr vs Chb\n",
    "cheG_GA = allel.GenotypeArray(cheG)\n",
    "ac1 = gbrG_GA.count_alleles()\n",
    "ac4 = cheG_GA.count_alleles()\n",
    "num, den = allel.hudson_fst(ac1, ac4)\n",
    "fst = np.sum(num) / np.sum(den)\n",
    "fst"
   ]
  },
  {
   "cell_type": "code",
   "execution_count": 62,
   "id": "679244fe",
   "metadata": {},
   "outputs": [
    {
     "data": {
      "text/plain": [
       "0.06410325174946345"
      ]
     },
     "execution_count": 62,
     "metadata": {},
     "output_type": "execute_result"
    }
   ],
   "source": [
    "# Gbr vs Esn\n",
    "esnG_GA = allel.GenotypeArray(esnG)\n",
    "ac1 = gbrG_GA.count_alleles()\n",
    "ac5 = esnG_GA.count_alleles()\n",
    "num, den = allel.hudson_fst(ac1, ac5)\n",
    "fst = np.sum(num) / np.sum(den)\n",
    "fst"
   ]
  },
  {
   "cell_type": "code",
   "execution_count": 69,
   "id": "6f4ae084",
   "metadata": {},
   "outputs": [
    {
     "data": {
      "text/plain": [
       "0.023094224232544584"
      ]
     },
     "execution_count": 69,
     "metadata": {},
     "output_type": "execute_result"
    }
   ],
   "source": [
    "# beb vs pel\n",
    "num, den = allel.hudson_fst(ac2, ac3)\n",
    "fst = np.sum(num) / np.sum(den)\n",
    "fst"
   ]
  },
  {
   "cell_type": "code",
   "execution_count": 70,
   "id": "eb013d9f",
   "metadata": {},
   "outputs": [
    {
     "data": {
      "text/plain": [
       "0.025776758769816985"
      ]
     },
     "execution_count": 70,
     "metadata": {},
     "output_type": "execute_result"
    }
   ],
   "source": [
    "# beb vs chb\n",
    "num, den = allel.hudson_fst(ac2, ac4)\n",
    "fst = np.sum(num) / np.sum(den)\n",
    "fst"
   ]
  },
  {
   "cell_type": "code",
   "execution_count": 71,
   "id": "f4b3269a",
   "metadata": {},
   "outputs": [
    {
     "data": {
      "text/plain": [
       "0.06423248562245433"
      ]
     },
     "execution_count": 71,
     "metadata": {},
     "output_type": "execute_result"
    }
   ],
   "source": [
    "# chb vs esn\n",
    "num, den = allel.hudson_fst(ac2, ac5)\n",
    "fst = np.sum(num) / np.sum(den)\n",
    "fst"
   ]
  },
  {
   "cell_type": "code",
   "execution_count": 72,
   "id": "74ffe54b",
   "metadata": {},
   "outputs": [
    {
     "data": {
      "text/plain": [
       "0.03191078619039487"
      ]
     },
     "execution_count": 72,
     "metadata": {},
     "output_type": "execute_result"
    }
   ],
   "source": [
    "# pel vs chb\n",
    "num, den = allel.hudson_fst(ac3, ac4)\n",
    "fst = np.sum(num) / np.sum(den)\n",
    "fst"
   ]
  },
  {
   "cell_type": "code",
   "execution_count": 73,
   "id": "a866c042",
   "metadata": {},
   "outputs": [
    {
     "data": {
      "text/plain": [
       "0.035221064391849376"
      ]
     },
     "execution_count": 73,
     "metadata": {},
     "output_type": "execute_result"
    }
   ],
   "source": [
    "# pel vs esn\n",
    "num, den = allel.hudson_fst(ac3, ac5)\n",
    "fst = np.sum(num) / np.sum(den)\n",
    "fst"
   ]
  },
  {
   "cell_type": "code",
   "execution_count": 74,
   "id": "a570b529",
   "metadata": {},
   "outputs": [
    {
     "data": {
      "text/plain": [
       "0.10746792936412862"
      ]
     },
     "execution_count": 74,
     "metadata": {},
     "output_type": "execute_result"
    }
   ],
   "source": [
    "# chb vs esn\n",
    "num, den = allel.hudson_fst(ac4, ac5)\n",
    "fst = np.sum(num) / np.sum(den)\n",
    "fst"
   ]
  },
  {
   "cell_type": "code",
   "execution_count": 8,
   "id": "4486d6fa",
   "metadata": {},
   "outputs": [
    {
     "data": {
      "text/plain": [
       "array([0.03781759, 0.04380646, 0.01445758, 0.04797316, 0.05831046,\n",
       "       0.04578263, 0.05511765, 0.02167918, 0.07797163])"
      ]
     },
     "execution_count": 8,
     "metadata": {},
     "output_type": "execute_result"
    }
   ],
   "source": [
    "allel.moving_hudson_fst(ac1, ac2, 100)"
   ]
  },
  {
   "cell_type": "code",
   "execution_count": null,
   "id": "29991417",
   "metadata": {},
   "outputs": [],
   "source": []
  },
  {
   "cell_type": "markdown",
   "id": "c5102df7",
   "metadata": {},
   "source": [
    "### Patterson_Fst"
   ]
  },
  {
   "cell_type": "code",
   "execution_count": 14,
   "id": "094e97d7",
   "metadata": {},
   "outputs": [
    {
     "data": {
      "text/plain": [
       "0.043420225487391266"
      ]
     },
     "execution_count": 14,
     "metadata": {},
     "output_type": "execute_result"
    }
   ],
   "source": [
    "posi = list(range(len((gbrG_GA))))\n",
    "num, den = allel.patterson_fst(ac1, ac2)\n",
    "All = np.nansum(num) / np.nansum(den)\n",
    "All"
   ]
  },
  {
   "cell_type": "code",
   "execution_count": 12,
   "id": "2b1c611e",
   "metadata": {},
   "outputs": [
    {
     "data": {
      "text/plain": [
       "(array([0.03649384, 0.04709216, 0.01445758, 0.04497913, 0.06339513,\n",
       "        0.04578263, 0.05511765, 0.02167918, 0.07797163, 0.01734574]),\n",
       " array([[   1,  100],\n",
       "        [ 101,  200],\n",
       "        [ 201,  300],\n",
       "        [ 301,  400],\n",
       "        [ 401,  500],\n",
       "        [ 501,  600],\n",
       "        [ 601,  700],\n",
       "        [ 701,  800],\n",
       "        [ 801,  900],\n",
       "        [ 901, 1000]]),\n",
       " array([100, 100, 100, 100, 100, 100, 100, 100, 100,  98]))"
      ]
     },
     "execution_count": 12,
     "metadata": {},
     "output_type": "execute_result"
    }
   ],
   "source": [
    "allel.windowed_patterson_fst(posi, ac1, ac2, 100, start=1 , stop= 1000, step= 100)\n"
   ]
  },
  {
   "cell_type": "code",
   "execution_count": 17,
   "id": "daf69295",
   "metadata": {},
   "outputs": [],
   "source": [
    "# allel.moving_weir_cockerham_fst(, posi, 100)"
   ]
  },
  {
   "cell_type": "markdown",
   "id": "bc27433b",
   "metadata": {},
   "source": [
    "## Haplotype Diversity\n",
    "### - Garud"
   ]
  },
  {
   "cell_type": "code",
   "execution_count": 76,
   "id": "8bee63ea",
   "metadata": {},
   "outputs": [
    {
     "data": {
      "text/plain": [
       "(0.4985508996498008,\n",
       " 0.6872358410819949,\n",
       " 0.7868614901581934,\n",
       " 0.05383311129950354)"
      ]
     },
     "execution_count": 76,
     "metadata": {},
     "output_type": "execute_result"
    }
   ],
   "source": [
    "# genotype Array\n",
    "gbrG_GA = allel.GenotypeArray(gbrG)\n",
    "# haplotype Array\n",
    "gbrG_HA = gbrG_GA.to_haplotypes()\n",
    "allel.garud_h(gbrG_HA)"
   ]
  },
  {
   "cell_type": "code",
   "execution_count": 78,
   "id": "47c07150",
   "metadata": {},
   "outputs": [
    {
     "data": {
      "text/plain": [
       "(0.30313683071930775,\n",
       " 0.4384126554894538,\n",
       " 0.5871416982152514,\n",
       " 0.15599910793933988)"
      ]
     },
     "execution_count": 78,
     "metadata": {},
     "output_type": "execute_result"
    }
   ],
   "source": [
    "# genotype Array\n",
    "bebG_GA = allel.GenotypeArray(bebG)\n",
    "# haplotype Array\n",
    "bebG_HA = bebG_GA.to_haplotypes()\n",
    "allel.garud_h(bebG_HA)"
   ]
  },
  {
   "cell_type": "code",
   "execution_count": 79,
   "id": "2498cb72",
   "metadata": {},
   "outputs": [
    {
     "data": {
      "text/plain": [
       "(0.21460207612456755,\n",
       " 0.3369550173010381,\n",
       " 0.4605536332179932,\n",
       " 0.25443405353111914)"
      ]
     },
     "execution_count": 79,
     "metadata": {},
     "output_type": "execute_result"
    }
   ],
   "source": [
    "# genotype Array\n",
    "pelG_GA = allel.GenotypeArray(pelG)\n",
    "# haplotype Array\n",
    "pelG_HA = pelG_GA.to_haplotypes()\n",
    "allel.garud_h(pelG_HA)"
   ]
  },
  {
   "cell_type": "code",
   "execution_count": 81,
   "id": "4fb95490",
   "metadata": {},
   "outputs": [
    {
     "data": {
      "text/plain": [
       "(0.2677443679894429,\n",
       " 0.4911395984541426,\n",
       " 0.6811198039400507,\n",
       " 0.4507129026579827)"
      ]
     },
     "execution_count": 81,
     "metadata": {},
     "output_type": "execute_result"
    }
   ],
   "source": [
    "# genotype Array\n",
    "cheG_GA = allel.GenotypeArray(cheG)\n",
    "# haplotype Array\n",
    "cheG_HA = cheG_GA.to_haplotypes()\n",
    "allel.garud_h(cheG_HA)"
   ]
  },
  {
   "cell_type": "code",
   "execution_count": 82,
   "id": "408419ae",
   "metadata": {},
   "outputs": [
    {
     "data": {
      "text/plain": [
       "(0.3011937557392103,\n",
       " 0.484287317620651,\n",
       " 0.6825323946536068,\n",
       " 0.20316734417344184)"
      ]
     },
     "execution_count": 82,
     "metadata": {},
     "output_type": "execute_result"
    }
   ],
   "source": [
    "# genotype Array\n",
    "esnG_GA = allel.GenotypeArray(esnG)\n",
    "# haplotype Array\n",
    "esnG_HA = esnG_GA.to_haplotypes()\n",
    "allel.garud_h(esnG_HA)"
   ]
  },
  {
   "cell_type": "code",
   "execution_count": 19,
   "id": "d2a2feeb",
   "metadata": {},
   "outputs": [
    {
     "data": {
      "text/plain": [
       "(array([0.25069436, 0.17310711, 0.77508755, 0.17298635, 0.21120638,\n",
       "        0.26506461, 0.449523  , 0.18361309, 0.17552228]),\n",
       " array([0.37096969, 0.30268084, 0.84271223, 0.32441734, 0.39282695,\n",
       "        0.41770318, 0.66477479, 0.2830576 , 0.28432556]),\n",
       " array([0.51956285, 0.41166526, 0.8729622 , 0.39149861, 0.52686874,\n",
       "        0.61206376, 0.89397416, 0.42120517, 0.45242121]),\n",
       " array([0.17039981, 0.41332403, 0.00288229, 0.43298429, 0.41452258,\n",
       "        0.28917995, 0.11182001, 0.38819467, 0.51685587]))"
      ]
     },
     "execution_count": 19,
     "metadata": {},
     "output_type": "execute_result"
    }
   ],
   "source": [
    "allel.moving_garud_h(arrH, 100)"
   ]
  },
  {
   "cell_type": "markdown",
   "id": "1fc8b1b6",
   "metadata": {},
   "source": [
    "### estimated Haplotype diversity\n",
    "\n",
    "\n",
    "Haplotype diversity (also known as gene diversity) represents the probability that two randomly sampled alleles are different, while nucleotide diversity Is defined as the average number of nucleotide differences per site in pairwise comparisons among DNA sequences "
   ]
  },
  {
   "cell_type": "code",
   "execution_count": 113,
   "id": "4bbca2bc",
   "metadata": {},
   "outputs": [],
   "source": [
    "def haplo_div_calc(h):\n",
    "    haplo_div = allel.haplotype_diversity(h)\n",
    "    return haplo_div"
   ]
  },
  {
   "cell_type": "code",
   "execution_count": 114,
   "id": "964159cf",
   "metadata": {},
   "outputs": [
    {
     "data": {
      "text/plain": [
       "0.5042195373687085"
      ]
     },
     "execution_count": 114,
     "metadata": {},
     "output_type": "execute_result"
    }
   ],
   "source": [
    "haplo_div_calc(gbrG_HA)"
   ]
  },
  {
   "cell_type": "code",
   "execution_count": 21,
   "id": "2876bf38",
   "metadata": {},
   "outputs": [
    {
     "data": {
      "text/plain": [
       "0.34615885901541665"
      ]
     },
     "execution_count": 21,
     "metadata": {},
     "output_type": "execute_result"
    }
   ],
   "source": [
    "# h = allel.HaplotypeArray(cheH)\n",
    "# allel.haplotype_diversity(h)\n",
    "## thats wrong array"
   ]
  },
  {
   "cell_type": "code",
   "execution_count": 23,
   "id": "5e7992bc",
   "metadata": {},
   "outputs": [
    {
     "data": {
      "text/html": [
       "<div class=\"allel allel-DisplayAs2D\"><span>&lt;HaplotypeArray shape=(999, 182) dtype=int64&gt;</span><table><thead><tr><th></th><th style=\"text-align: center\">0</th><th style=\"text-align: center\">1</th><th style=\"text-align: center\">2</th><th style=\"text-align: center\">3</th><th style=\"text-align: center\">4</th><th style=\"text-align: center\">...</th><th style=\"text-align: center\">177</th><th style=\"text-align: center\">178</th><th style=\"text-align: center\">179</th><th style=\"text-align: center\">180</th><th style=\"text-align: center\">181</th></tr></thead><tbody><tr><th style=\"text-align: center; background-color: white; border-right: 1px solid black; \">0</th><td style=\"text-align: center\">0</td><td style=\"text-align: center\">0</td><td style=\"text-align: center\">0</td><td style=\"text-align: center\">0</td><td style=\"text-align: center\">0</td><td style=\"text-align: center\">...</td><td style=\"text-align: center\">0</td><td style=\"text-align: center\">0</td><td style=\"text-align: center\">0</td><td style=\"text-align: center\">0</td><td style=\"text-align: center\">0</td></tr><tr><th style=\"text-align: center; background-color: white; border-right: 1px solid black; \">1</th><td style=\"text-align: center\">0</td><td style=\"text-align: center\">0</td><td style=\"text-align: center\">0</td><td style=\"text-align: center\">0</td><td style=\"text-align: center\">0</td><td style=\"text-align: center\">...</td><td style=\"text-align: center\">0</td><td style=\"text-align: center\">0</td><td style=\"text-align: center\">0</td><td style=\"text-align: center\">0</td><td style=\"text-align: center\">0</td></tr><tr><th style=\"text-align: center; background-color: white; border-right: 1px solid black; \">2</th><td style=\"text-align: center\">0</td><td style=\"text-align: center\">0</td><td style=\"text-align: center\">0</td><td style=\"text-align: center\">0</td><td style=\"text-align: center\">0</td><td style=\"text-align: center\">...</td><td style=\"text-align: center\">0</td><td style=\"text-align: center\">0</td><td style=\"text-align: center\">0</td><td style=\"text-align: center\">0</td><td style=\"text-align: center\">0</td></tr><tr><th style=\"text-align: center; background-color: white; border-right: 1px solid black; \">...</th><td style=\"text-align: center\" colspan=\"12\">...</td></tr><tr><th style=\"text-align: center; background-color: white; border-right: 1px solid black; \">996</th><td style=\"text-align: center\">0</td><td style=\"text-align: center\">0</td><td style=\"text-align: center\">0</td><td style=\"text-align: center\">0</td><td style=\"text-align: center\">0</td><td style=\"text-align: center\">...</td><td style=\"text-align: center\">0</td><td style=\"text-align: center\">0</td><td style=\"text-align: center\">0</td><td style=\"text-align: center\">0</td><td style=\"text-align: center\">0</td></tr><tr><th style=\"text-align: center; background-color: white; border-right: 1px solid black; \">997</th><td style=\"text-align: center\">0</td><td style=\"text-align: center\">0</td><td style=\"text-align: center\">0</td><td style=\"text-align: center\">0</td><td style=\"text-align: center\">0</td><td style=\"text-align: center\">...</td><td style=\"text-align: center\">0</td><td style=\"text-align: center\">0</td><td style=\"text-align: center\">0</td><td style=\"text-align: center\">0</td><td style=\"text-align: center\">0</td></tr><tr><th style=\"text-align: center; background-color: white; border-right: 1px solid black; \">998</th><td style=\"text-align: center\">0</td><td style=\"text-align: center\">0</td><td style=\"text-align: center\">0</td><td style=\"text-align: center\">0</td><td style=\"text-align: center\">0</td><td style=\"text-align: center\">...</td><td style=\"text-align: center\">0</td><td style=\"text-align: center\">0</td><td style=\"text-align: center\">0</td><td style=\"text-align: center\">0</td><td style=\"text-align: center\">0</td></tr></tbody></table></div>"
      ],
      "text/plain": [
       "<HaplotypeArray shape=(999, 182) dtype=int64>\n",
       "0 0 0 0 0 ... 0 0 0 0 0\n",
       "0 0 0 0 0 ... 0 0 0 0 0\n",
       "0 0 0 0 0 ... 0 0 0 0 0\n",
       "...\n",
       "0 0 0 0 0 ... 0 0 0 0 0\n",
       "0 0 0 0 0 ... 0 0 0 0 0\n",
       "0 0 0 0 0 ... 0 0 0 0 0"
      ]
     },
     "execution_count": 23,
     "metadata": {},
     "output_type": "execute_result"
    }
   ],
   "source": [
    "arrH #(999,182 cause into Haplotype)"
   ]
  },
  {
   "cell_type": "code",
   "execution_count": 77,
   "id": "69d6edc4",
   "metadata": {},
   "outputs": [
    {
     "data": {
      "text/plain": [
       "0.5042195373687085"
      ]
     },
     "execution_count": 77,
     "metadata": {},
     "output_type": "execute_result"
    }
   ],
   "source": [
    "# british\n",
    "allel.haplotype_diversity(gbrG_HA)"
   ]
  },
  {
   "cell_type": "code",
   "execution_count": 83,
   "id": "9897c891",
   "metadata": {},
   "outputs": [
    {
     "data": {
      "text/plain": [
       "0.70093839249286"
      ]
     },
     "execution_count": 83,
     "metadata": {},
     "output_type": "execute_result"
    }
   ],
   "source": [
    "# bengali\n",
    "allel.haplotype_diversity(bebG_HA)"
   ]
  },
  {
   "cell_type": "code",
   "execution_count": 84,
   "id": "41d7102c",
   "metadata": {},
   "outputs": [
    {
     "data": {
      "text/plain": [
       "0.7900452488687781"
      ]
     },
     "execution_count": 84,
     "metadata": {},
     "output_type": "execute_result"
    }
   ],
   "source": [
    "# peru\n",
    "allel.haplotype_diversity(pelG_HA)"
   ]
  },
  {
   "cell_type": "code",
   "execution_count": 85,
   "id": "4c2ef658",
   "metadata": {},
   "outputs": [
    {
     "data": {
      "text/plain": [
       "0.7358276107032915"
      ]
     },
     "execution_count": 85,
     "metadata": {},
     "output_type": "execute_result"
    }
   ],
   "source": [
    "# china\n",
    "allel.haplotype_diversity(cheG_HA)"
   ]
  },
  {
   "cell_type": "code",
   "execution_count": 86,
   "id": "bffa7bed",
   "metadata": {},
   "outputs": [
    {
     "data": {
      "text/plain": [
       "0.7023534840793723"
      ]
     },
     "execution_count": 86,
     "metadata": {},
     "output_type": "execute_result"
    }
   ],
   "source": [
    "# nigeria\n",
    "allel.haplotype_diversity(esnG_HA)"
   ]
  },
  {
   "cell_type": "code",
   "execution_count": 97,
   "id": "74c164e2",
   "metadata": {
    "scrolled": false
   },
   "outputs": [
    {
     "data": {
      "text/plain": [
       "array([0.        , 0.12385405, 0.19786291, 0.11420072, 0.        ,\n",
       "       0.28176796, 0.3861332 ])"
      ]
     },
     "execution_count": 97,
     "metadata": {},
     "output_type": "execute_result"
    }
   ],
   "source": [
    "allel.moving_haplotype_diversity(gbrG_HA, 5)"
   ]
  },
  {
   "cell_type": "markdown",
   "id": "21a7aa62",
   "metadata": {},
   "source": [
    "### nucleotide dversity\n",
    "nucleotide diversity Is defined as the average number of nucleotide differences per site in pairwise comparisons among DNA sequences"
   ]
  },
  {
   "cell_type": "code",
   "execution_count": 106,
   "id": "447b08f1",
   "metadata": {},
   "outputs": [
    {
     "data": {
      "text/plain": [
       "array([0.        , 0.02477081, 0.07740878, 0.04568029, 0.        ,\n",
       "       0.05883067, 0.10782588])"
      ]
     },
     "execution_count": 106,
     "metadata": {},
     "output_type": "execute_result"
    }
   ],
   "source": [
    "posiGbrG = list(range(len((gbrG_GA))))\n",
    "ac_gbrG_GA = gbrG_GA.count_alleles()\n",
    "pi, windows, n_bases, counts = allel.windowed_diversity(posiGbrG, ac_gbrG_GA, 5)\n",
    "pi"
   ]
  },
  {
   "cell_type": "code",
   "execution_count": 104,
   "id": "dc4c6989",
   "metadata": {},
   "outputs": [
    {
     "data": {
      "text/plain": [
       "array([0.        , 0.05324357, 0.15764994, 0.08268734, 0.        ,\n",
       "       0.09812322, 0.14602203])"
      ]
     },
     "execution_count": 104,
     "metadata": {},
     "output_type": "execute_result"
    }
   ],
   "source": [
    "posiBebG = list(range(len((bebG_GA))))\n",
    "ac_bebG_GA = bebG_GA.count_alleles()\n",
    "pi, windows, n_bases, counts = allel.windowed_diversity(posiBebG, ac_bebG_GA, 5)\n",
    "pi"
   ]
  },
  {
   "cell_type": "code",
   "execution_count": 103,
   "id": "84ef4172",
   "metadata": {},
   "outputs": [
    {
     "data": {
      "text/plain": [
       "array([0.        , 0.03994431, 0.18890359, 0.06861121, 0.04533241,\n",
       "       0.11469544, 0.15820397])"
      ]
     },
     "execution_count": 103,
     "metadata": {},
     "output_type": "execute_result"
    }
   ],
   "source": [
    "# Peru\n",
    "posiPelG = list(range(len((pelG_GA))))\n",
    "ac_pelG_GA = pelG_GA.count_alleles()\n",
    "pi, windows, n_bases, counts = allel.windowed_diversity(posiPelG, ac_pelG_GA, 5)\n",
    "pi"
   ]
  },
  {
   "cell_type": "code",
   "execution_count": 101,
   "id": "d67be034",
   "metadata": {},
   "outputs": [
    {
     "data": {
      "text/plain": [
       "array([0.        , 0.06289368, 0.19612598, 0.09723893, 0.00194175,\n",
       "       0.14861473, 0.12965191])"
      ]
     },
     "execution_count": 101,
     "metadata": {},
     "output_type": "execute_result"
    }
   ],
   "source": [
    "# China\n",
    "posiCheG = list(range(len((cheG_GA))))\n",
    "ac_cheG_GA = cheG_GA.count_alleles()\n",
    "pi, windows, n_bases, counts = allel.windowed_diversity(posiCheG, ac_cheG_GA, 5)\n",
    "pi"
   ]
  },
  {
   "cell_type": "code",
   "execution_count": 102,
   "id": "d83b2f96",
   "metadata": {},
   "outputs": [
    {
     "data": {
      "text/plain": [
       "array([0.0020202 , 0.        , 0.16653848, 0.0040404 , 0.01197764,\n",
       "       0.06601036, 0.08467415])"
      ]
     },
     "execution_count": 102,
     "metadata": {},
     "output_type": "execute_result"
    }
   ],
   "source": [
    "# Nigeria\n",
    "posiEsnG = list(range(len((esnG_GA))))\n",
    "ac_esnG_GA = esnG_GA.count_alleles()\n",
    "pi, windows, n_bases, counts = allel.windowed_diversity(posiEsnG, ac_esnG_GA, 5)\n",
    "pi"
   ]
  },
  {
   "cell_type": "markdown",
   "id": "b72e068e",
   "metadata": {},
   "source": [
    "### iHS (seems useless, cause NaN)"
   ]
  },
  {
   "cell_type": "code",
   "execution_count": 26,
   "id": "c4db49d7",
   "metadata": {},
   "outputs": [],
   "source": [
    "posiH = list(range(len((arrH))))"
   ]
  },
  {
   "cell_type": "code",
   "execution_count": 37,
   "id": "5321f1a3",
   "metadata": {},
   "outputs": [
    {
     "data": {
      "text/plain": [
       "array([        nan,         nan,         nan,         nan,         nan,\n",
       "               nan,         nan,         nan,         nan,         nan,\n",
       "               nan,         nan,         nan,         nan,         nan,\n",
       "               nan,         nan,         nan,         nan,         nan,\n",
       "               nan,         nan,         nan,         nan,         nan,\n",
       "               nan,         nan,         nan,         nan,         nan,\n",
       "               nan,         nan,         nan,         nan,         nan,\n",
       "               nan,         nan,         nan,         nan,         nan,\n",
       "               nan,         nan,         nan,         nan,         nan,\n",
       "               nan,         nan,         nan,         nan,         nan,\n",
       "               nan,         nan,         nan,         nan,         nan,\n",
       "               nan,         nan,         nan,         nan,         nan,\n",
       "               nan,         nan,         nan,         nan,         nan,\n",
       "               nan,         nan,         nan,         nan,         nan,\n",
       "               nan,         nan,         nan,         nan,         nan,\n",
       "               nan,         nan,         nan,         nan,         nan,\n",
       "               nan,         nan,         nan,         nan,         nan,\n",
       "               nan,         nan,         nan,         nan,         nan,\n",
       "               nan,         nan,         nan,         nan,         nan,\n",
       "               nan,         nan,         nan,         nan,         nan,\n",
       "               nan,         nan,         nan,         nan,         nan,\n",
       "               nan,         nan,         nan,         nan,         nan,\n",
       "               nan,         nan,         nan,         nan,         nan,\n",
       "               nan,         nan,         nan,         nan,         nan,\n",
       "               nan,         nan,         nan,         nan,         nan,\n",
       "               nan,         nan,  0.9149786 ,         nan,         nan,\n",
       "               nan,         nan,         nan,         nan,         nan,\n",
       "               nan,         nan,         nan,         nan,         nan,\n",
       "               nan,         nan,         nan,         nan,         nan,\n",
       "       -0.06754312,         nan,         nan,         nan,         nan,\n",
       "               nan,         nan,         nan,         nan,         nan,\n",
       "               nan,         nan,         nan,         nan,         nan,\n",
       "               nan,         nan,         nan,         nan,         nan,\n",
       "               nan,         nan,         nan,         nan,         nan,\n",
       "               nan,         nan,         nan,         nan,         nan,\n",
       "               nan,         nan,         nan,         nan,         nan,\n",
       "               nan,         nan,         nan,         nan,         nan,\n",
       "               nan,         nan,         nan,         nan,         nan,\n",
       "               nan,         nan,         nan,         nan,         nan,\n",
       "               nan,         nan,         nan,         nan,         nan,\n",
       "               nan,         nan,         nan,         nan,         nan,\n",
       "               nan,         nan,         nan,         nan,         nan,\n",
       "               nan,         nan,         nan,         nan,         nan,\n",
       "               nan,         nan,         nan,         nan,         nan,\n",
       "               nan,         nan,         nan,         nan,         nan,\n",
       "               nan,         nan,         nan,         nan,         nan,\n",
       "               nan,         nan,         nan,         nan,         nan,\n",
       "               nan,         nan,         nan,         nan,         nan,\n",
       "               nan,         nan,         nan,         nan,         nan,\n",
       "               nan,         nan,         nan,         nan,         nan,\n",
       "               nan,         nan,         nan,         nan,         nan,\n",
       "               nan,         nan,         nan,         nan,         nan,\n",
       "               nan,         nan,         nan,         nan,         nan,\n",
       "               nan,         nan,         nan,         nan,         nan,\n",
       "               nan,         nan,         nan,         nan,         nan,\n",
       "               nan,         nan,         nan,         nan,         nan,\n",
       "               nan,         nan,         nan,         nan,         nan,\n",
       "               nan,         nan,         nan,         nan,         nan,\n",
       "               nan,         nan,         nan,         nan,         nan,\n",
       "               nan,         nan,         nan,         nan,         nan,\n",
       "               nan,         nan,         nan,         nan,         nan,\n",
       "               nan,         nan,         nan,         nan,         nan,\n",
       "               nan,         nan,         nan,         nan,         nan,\n",
       "               nan,         nan,         nan,         nan,         nan,\n",
       "               nan,         nan,         nan,         nan,         nan,\n",
       "               nan,         nan,         nan,         nan,         nan,\n",
       "        0.35246856,         nan,  0.63932449,         nan,         nan,\n",
       "               nan,         nan,         nan,         nan,         nan,\n",
       "               nan,         nan,         nan,         nan,         nan,\n",
       "               nan,         nan,         nan,         nan,         nan,\n",
       "               nan,         nan,         nan,         nan,         nan,\n",
       "               nan,         nan,         nan,         nan,         nan,\n",
       "               nan,         nan,  0.65471294,         nan,         nan,\n",
       "               nan,         nan,         nan,         nan,         nan,\n",
       "               nan,         nan,         nan,         nan,         nan,\n",
       "               nan,         nan,         nan,         nan,         nan,\n",
       "               nan,         nan, -0.30611079,         nan,         nan,\n",
       "       -1.46192032,         nan,         nan,         nan,         nan,\n",
       "        2.40773   ,         nan,         nan,         nan,         nan,\n",
       "               nan,         nan,         nan, -2.50421317, -2.50421317,\n",
       "               nan,         nan,         nan,  1.70957129,         nan,\n",
       "               nan,         nan,         nan,         nan,         nan,\n",
       "               nan,         nan,         nan,         nan,         nan,\n",
       "               nan,         nan,         nan,         nan,         nan,\n",
       "               nan,         nan,         nan,         nan,         nan,\n",
       "               nan,         nan,         nan,         nan,         nan,\n",
       "               nan,         nan,         nan,         nan,         nan,\n",
       "               nan,         nan,         nan,         nan,         nan,\n",
       "               nan,         nan,         nan,         nan,         nan,\n",
       "               nan,         nan,  0.33608011,         nan,         nan,\n",
       "               nan,  0.27128633,         nan,         nan,         nan,\n",
       "               nan,         nan,         nan,         nan,         nan,\n",
       "               nan, -0.3623157 ,         nan,         nan,         nan,\n",
       "               nan,         nan,         nan,         nan,         nan,\n",
       "               nan,         nan,         nan,         nan,         nan,\n",
       "               nan,         nan,         nan,         nan,         nan,\n",
       "               nan,         nan,         nan,         nan,         nan,\n",
       "               nan,         nan,         nan,         nan,         nan,\n",
       "               nan,         nan,         nan,         nan,  1.98008219,\n",
       "               nan,         nan,         nan,         nan,         nan,\n",
       "               nan,         nan,         nan,         nan,         nan,\n",
       "               nan,         nan,         nan,         nan,         nan,\n",
       "               nan,         nan,         nan,         nan,         nan,\n",
       "               nan,         nan,         nan,         nan,         nan,\n",
       "               nan,         nan,         nan,         nan,         nan,\n",
       "               nan,         nan,         nan,         nan,         nan,\n",
       "               nan,         nan,         nan,         nan,         nan,\n",
       "               nan,         nan,         nan,         nan,         nan,\n",
       "               nan,         nan,         nan,         nan,         nan,\n",
       "               nan,         nan,         nan,         nan,         nan,\n",
       "               nan,         nan,         nan,         nan,         nan,\n",
       "               nan,         nan,         nan,         nan,         nan,\n",
       "               nan,         nan,         nan,         nan,         nan,\n",
       "               nan,         nan,         nan,         nan,         nan,\n",
       "               nan,         nan,         nan,         nan,         nan,\n",
       "               nan,         nan,         nan,         nan, -0.08763098,\n",
       "               nan,         nan,         nan,         nan,         nan,\n",
       "               nan,         nan,         nan,         nan,         nan,\n",
       "               nan,         nan,         nan,         nan,         nan,\n",
       "               nan,         nan,         nan,         nan,         nan,\n",
       "               nan,         nan,         nan,         nan,         nan,\n",
       "               nan,         nan,         nan,         nan,         nan,\n",
       "               nan,         nan,         nan,         nan,         nan,\n",
       "               nan,         nan,         nan,         nan,         nan,\n",
       "               nan,         nan,         nan,         nan,         nan,\n",
       "               nan,         nan,         nan,         nan,         nan,\n",
       "               nan,         nan,         nan,         nan,         nan,\n",
       "               nan,         nan,         nan,         nan,         nan,\n",
       "               nan,         nan,         nan,         nan,         nan,\n",
       "               nan,         nan,         nan,         nan,         nan,\n",
       "               nan,         nan,         nan,         nan,         nan,\n",
       "               nan,         nan,         nan,         nan,         nan,\n",
       "               nan,         nan,         nan,         nan,         nan,\n",
       "               nan,         nan,         nan,         nan,         nan,\n",
       "               nan,         nan,         nan,         nan,         nan,\n",
       "               nan,         nan,         nan,         nan,         nan,\n",
       "               nan,         nan,         nan,         nan,         nan,\n",
       "               nan,         nan,         nan,         nan,         nan,\n",
       "               nan,         nan,         nan,         nan,         nan,\n",
       "               nan,         nan,         nan,  0.87771096,         nan,\n",
       "               nan,         nan,         nan,         nan,         nan,\n",
       "               nan,         nan,         nan,         nan,         nan,\n",
       "               nan,         nan,         nan,         nan,  0.425037  ,\n",
       "               nan,         nan,         nan,         nan,         nan,\n",
       "               nan,         nan,         nan,         nan,         nan,\n",
       "               nan,         nan,         nan,         nan,         nan,\n",
       "               nan,         nan,         nan,         nan,         nan,\n",
       "               nan,         nan,         nan,         nan,         nan,\n",
       "               nan,  1.26006725,         nan,         nan,         nan,\n",
       "               nan,         nan,         nan,         nan,         nan,\n",
       "               nan,         nan,  1.26427862,         nan,         nan,\n",
       "               nan,         nan,         nan,         nan,         nan,\n",
       "               nan,         nan,         nan,         nan,         nan,\n",
       "               nan,         nan,  0.18435645,         nan,         nan,\n",
       "               nan,         nan,         nan,         nan,         nan,\n",
       "               nan,         nan,         nan,         nan,         nan,\n",
       "               nan,         nan,         nan,         nan,         nan,\n",
       "               nan,         nan,         nan,         nan,         nan,\n",
       "               nan,         nan,         nan,         nan,         nan,\n",
       "               nan,         nan,         nan,         nan,         nan,\n",
       "               nan,         nan,         nan,         nan,         nan,\n",
       "               nan,         nan,         nan,         nan, -2.23919097,\n",
       "               nan,         nan,         nan,         nan,         nan,\n",
       "               nan,         nan,         nan,         nan,         nan,\n",
       "               nan,         nan,         nan,         nan,         nan,\n",
       "               nan,         nan,         nan, -0.35645185,         nan,\n",
       "               nan,         nan,         nan,         nan,         nan,\n",
       "               nan,         nan,         nan,         nan,         nan,\n",
       "               nan,         nan,         nan,         nan,         nan,\n",
       "               nan,         nan,         nan,         nan,         nan,\n",
       "               nan,         nan,         nan,         nan,         nan,\n",
       "               nan,         nan,         nan,         nan,         nan,\n",
       "               nan,         nan,         nan,         nan,         nan,\n",
       "               nan,         nan,         nan,         nan,         nan,\n",
       "               nan,         nan,         nan,         nan,         nan,\n",
       "               nan,         nan,         nan,         nan,         nan,\n",
       "               nan,         nan,         nan,         nan,         nan,\n",
       "               nan,         nan,         nan,         nan,         nan,\n",
       "               nan,         nan,         nan,         nan,         nan,\n",
       "               nan,         nan,         nan,         nan,         nan,\n",
       "               nan,         nan,         nan,         nan,         nan,\n",
       "               nan,         nan,         nan,         nan,         nan,\n",
       "               nan,         nan,         nan,         nan,         nan,\n",
       "               nan,         nan,         nan,         nan,         nan,\n",
       "               nan,         nan,         nan,         nan,         nan,\n",
       "               nan,         nan,         nan,         nan,         nan,\n",
       "               nan,         nan,         nan,         nan,         nan,\n",
       "               nan,         nan,         nan,         nan,         nan,\n",
       "               nan,         nan,         nan,         nan,         nan,\n",
       "               nan,         nan,         nan,         nan,         nan,\n",
       "               nan,         nan,         nan,         nan,         nan,\n",
       "               nan,         nan,         nan,         nan,         nan,\n",
       "               nan,         nan,         nan,         nan,         nan,\n",
       "               nan,         nan,         nan,         nan,         nan,\n",
       "               nan,         nan,         nan,         nan,         nan,\n",
       "               nan,         nan,         nan,         nan,         nan,\n",
       "               nan,         nan,         nan,         nan,         nan,\n",
       "               nan,         nan,         nan,         nan,         nan,\n",
       "               nan,         nan,         nan,         nan,         nan,\n",
       "               nan,         nan,         nan,         nan])"
      ]
     },
     "execution_count": 37,
     "metadata": {},
     "output_type": "execute_result"
    }
   ],
   "source": [
    "allel.ihs(arrH, posiH, map_pos=None, min_ehh=0.4, min_maf=0.05, include_edges=False,\n",
    "        gap_scale=20000, max_gap=200000, is_accessible=None, use_threads=True)"
   ]
  },
  {
   "cell_type": "markdown",
   "id": "2fa4460e",
   "metadata": {},
   "source": [
    "### XEPHH"
   ]
  },
  {
   "cell_type": "code",
   "execution_count": 32,
   "id": "39566378",
   "metadata": {},
   "outputs": [],
   "source": [
    "# # genotype Array\n",
    "# gbrG_GA = allel.GenotypeArray(gbrG)\n",
    "# # haplotype Array 1 gbrG_GA\n",
    "# arrH = gbrG_GA.to_haplotypes()\n",
    "# # haplotype Array 2 bebG_GA\n",
    "#  bebG_GA = allel.GenotypeArray(bebG)\n",
    "arrH2 = bebG_GA.to_haplotypes()\n"
   ]
  },
  {
   "cell_type": "code",
   "execution_count": null,
   "id": "0df8f2d6",
   "metadata": {},
   "outputs": [],
   "source": [
    "posi_posi = list(range(len((arrH))))"
   ]
  },
  {
   "cell_type": "code",
   "execution_count": 39,
   "id": "2589cfe7",
   "metadata": {},
   "outputs": [
    {
     "data": {
      "text/plain": [
       "array([            nan,             nan,             nan,             nan,\n",
       "                   nan,             nan,             nan,             nan,\n",
       "                   nan,             nan,             nan,             nan,\n",
       "                   nan,             nan,             nan,             nan,\n",
       "                   nan,             nan,             nan,             nan,\n",
       "                   nan,             nan,             nan,             nan,\n",
       "                   nan,             nan,             nan,             nan,\n",
       "                   nan,             nan,             nan,             nan,\n",
       "                   nan,             nan,             nan,             nan,\n",
       "                   nan,             nan,             nan,             nan,\n",
       "                   nan,             nan,             nan,             nan,\n",
       "                   nan,             nan,             nan,             nan,\n",
       "                   nan,             nan,             nan,             nan,\n",
       "                   nan,             nan,             nan,             nan,\n",
       "                   nan,             nan,             nan,             nan,\n",
       "                   nan,             nan,             nan,             nan,\n",
       "                   nan,             nan,             nan,             nan,\n",
       "                   nan,             nan,             nan,             nan,\n",
       "                   nan,             nan,             nan,             nan,\n",
       "                   nan,             nan,             nan,             nan,\n",
       "                   nan,             nan,             nan,             nan,\n",
       "                   nan,             nan,             nan,             nan,\n",
       "                   nan,             nan,             nan,             nan,\n",
       "                   nan,             nan,             nan,             nan,\n",
       "                   nan,             nan,             nan,             nan,\n",
       "                   nan,             nan,             nan,             nan,\n",
       "                   nan,             nan,             nan,             nan,\n",
       "                   nan,             nan,             nan,             nan,\n",
       "                   nan,             nan,             nan,             nan,\n",
       "                   nan,             nan,             nan,             nan,\n",
       "                   nan,             nan,             nan,             nan,\n",
       "                   nan,             nan,             nan,             nan,\n",
       "                   nan,             nan,             nan,             nan,\n",
       "                   nan,             nan,             nan,             nan,\n",
       "                   nan,             nan,             nan,             nan,\n",
       "                   nan,             nan,             nan,             nan,\n",
       "                   nan, -3.20202246e-01, -3.20547300e-01, -3.14488060e-01,\n",
       "       -3.14488060e-01, -3.14488060e-01, -3.14488060e-01, -3.14488060e-01,\n",
       "       -3.14488060e-01, -3.14488060e-01, -3.14488060e-01, -3.13517341e-01,\n",
       "       -3.15317747e-01, -3.21898421e-01, -3.13003374e-01, -3.13003374e-01,\n",
       "       -3.13003374e-01, -3.13003374e-01, -3.13003374e-01, -3.13003374e-01,\n",
       "       -3.13003374e-01, -3.13003374e-01, -3.13003374e-01, -3.13003374e-01,\n",
       "       -3.13003374e-01, -3.13003374e-01, -3.13003374e-01, -3.13003374e-01,\n",
       "       -3.13003374e-01, -3.13003374e-01, -3.13003374e-01, -3.13003374e-01,\n",
       "       -3.13003374e-01, -3.23248537e-01, -3.16606511e-01, -3.16606511e-01,\n",
       "       -3.16606511e-01, -3.16606511e-01, -3.16606511e-01, -3.04381835e-01,\n",
       "       -4.45781681e-01, -8.39189165e-02, -3.98697374e-02, -3.82745294e-02,\n",
       "       -1.33854346e-02, -1.33854346e-02, -1.33854346e-02, -1.33854346e-02,\n",
       "       -1.33854346e-02, -1.33854346e-02, -1.33854346e-02, -1.33854346e-02,\n",
       "       -1.33854346e-02, -1.33854346e-02, -1.33854346e-02, -1.33854346e-02,\n",
       "       -1.33854346e-02, -1.33854346e-02, -1.33854346e-02, -1.33854346e-02,\n",
       "       -1.33854346e-02, -1.33854346e-02, -1.33854346e-02, -1.33854346e-02,\n",
       "       -1.33854346e-02, -1.33854346e-02, -1.33854346e-02, -1.33854346e-02,\n",
       "       -1.33854346e-02, -1.33854346e-02, -1.33854346e-02, -1.33854346e-02,\n",
       "       -1.33854346e-02, -1.33854346e-02, -1.56264048e-02, -8.62540512e-03,\n",
       "       -8.62540512e-03, -8.62540512e-03, -8.62540512e-03, -8.62540512e-03,\n",
       "       -8.62540512e-03, -8.62540512e-03, -1.43931151e-02,  3.17810311e-02,\n",
       "        8.07252811e-03,  8.07252811e-03,  8.07252811e-03,  8.07252811e-03,\n",
       "        8.07252811e-03,  8.07252811e-03,  8.07252811e-03,  8.07252811e-03,\n",
       "        8.07252811e-03,  3.03801790e-03,  5.66422048e-03,  5.66422048e-03,\n",
       "        5.66422048e-03,  5.66422048e-03, -7.58966584e-04,  5.77016683e-03,\n",
       "        5.77016683e-03,  2.34810525e-02,  3.15232779e-02,  2.17549019e-02,\n",
       "        3.07255729e-02,  2.58829594e-02,  2.58829594e-02,  2.58829594e-02,\n",
       "        1.23620822e-01, -8.81495441e-03, -8.81495441e-03, -8.81495441e-03,\n",
       "       -1.54026255e-02, -9.61055635e-03, -1.39014025e-03, -6.41315926e-03,\n",
       "       -6.41315926e-03, -1.96006736e-02,  4.23558743e-03,  4.23558743e-03,\n",
       "       -3.04773611e-04,  4.22712110e-03,  4.46084202e-03,  4.23975771e-03,\n",
       "        4.23975771e-03,  4.23975771e-03,  4.23975771e-03,  4.23975771e-03,\n",
       "        4.23975771e-03,  4.23975771e-03,  4.23975771e-03,  4.23975771e-03,\n",
       "        4.23975771e-03,  4.23975771e-03,  4.23975771e-03,  4.23975771e-03,\n",
       "        4.23975771e-03,  1.51409589e-03,  6.23351309e-03,  6.23351309e-03,\n",
       "        6.23351309e-03,  6.23351309e-03,  6.23351309e-03,  1.09476142e-02,\n",
       "        1.66361230e-02,  1.66361230e-02,  1.66361230e-02,  1.66361230e-02,\n",
       "        2.53545528e-02,  2.35583467e-02,  2.35583467e-02,  2.35583467e-02,\n",
       "        2.35583467e-02,  3.54307305e-02,  2.91848031e-02,  2.91848031e-02,\n",
       "        2.91848031e-02,  2.91848031e-02,  2.91848031e-02,  2.91848031e-02,\n",
       "        2.91848031e-02,  2.91848031e-02,  2.91848031e-02,  2.91848031e-02,\n",
       "        2.91848031e-02,  2.91848031e-02,  3.92397696e-02,  3.62424898e-02,\n",
       "        3.62424898e-02,  3.62424898e-02,  1.42165279e-01,  1.23693181e-01,\n",
       "        1.35817801e-01,  1.32776240e-01,  1.32776240e-01,  1.32776240e-01,\n",
       "        1.32776240e-01,  1.32776240e-01,  1.32776240e-01,  1.32776240e-01,\n",
       "        1.32776240e-01,  1.32776240e-01,  1.92161718e-01,  1.11629918e-01,\n",
       "        1.35185841e-01,  1.51151289e-01, -1.45324425e-02,  4.76420293e-01,\n",
       "        6.80587329e-01,  6.49017216e-01,  6.49017216e-01,  6.49017216e-01,\n",
       "        5.73516002e-01,  5.96739362e-01,  5.94457976e-01,  5.86476245e-01,\n",
       "        5.86476245e-01,  5.86476245e-01,  5.86476245e-01,  5.86476245e-01,\n",
       "        5.86476245e-01,  5.86476245e-01,  6.66688344e-01,  5.12226296e-01,\n",
       "        5.12226296e-01,  5.16092765e-01,  5.16092765e-01,  5.10172407e-01,\n",
       "        5.09458911e-01,  5.03225788e-01,  5.03225788e-01,  5.03225788e-01,\n",
       "        5.06794261e-01,  5.05113304e-01,  5.05113304e-01,  5.05113304e-01,\n",
       "        4.95916063e-01,  4.98265300e-01,  5.14352496e-01,  5.06411408e-01,\n",
       "        4.96143698e-01,  4.96143698e-01,  4.96143698e-01,  4.96143698e-01,\n",
       "        4.96143698e-01,  4.82667303e-01,  4.73370602e-01,  4.75265189e-01,\n",
       "        4.75265189e-01,  4.79205156e-01,  4.76953142e-01,  4.76953142e-01,\n",
       "        4.76953142e-01,  4.86454233e-01,  4.84910616e-01,  4.84910616e-01,\n",
       "        4.84910616e-01,  4.84910616e-01,  6.51974808e-01,  7.74432209e-01,\n",
       "        7.69455995e-01,  9.39832547e-01,  7.71149608e-01,  7.66264903e-01,\n",
       "        7.66264903e-01,  7.66264903e-01,  5.43518171e-01,  5.53929305e-01,\n",
       "        5.58009158e-01,  5.55176728e-01,  5.55176728e-01,  5.55176728e-01,\n",
       "        5.55176728e-01,  5.55176728e-01,  7.94228419e-01,  7.94228419e-01,\n",
       "        6.34881310e-01,  5.68360165e-01,  5.68360165e-01,  6.50785115e-01,\n",
       "        5.14637719e-01,  5.13561723e-01,  5.20272050e-01,  5.20272050e-01,\n",
       "        5.20272050e-01,  5.20272050e-01,  5.20272050e-01,  5.20272050e-01,\n",
       "        5.42362473e-01,  4.96018324e-01,  4.96018324e-01,  4.96018324e-01,\n",
       "        4.96018324e-01,  4.96018324e-01,  4.96018324e-01,  4.96018324e-01,\n",
       "        6.92448358e-01,  4.95267590e-01,  4.95267590e-01,  4.95267590e-01,\n",
       "        4.95267590e-01,  4.95267590e-01,  4.95267590e-01,  4.95267590e-01,\n",
       "        4.95267590e-01,  4.95267590e-01,  4.95267590e-01,  4.95267590e-01,\n",
       "        4.95267590e-01,  4.95267590e-01,  4.95267590e-01,  4.95267590e-01,\n",
       "        4.95267590e-01,  4.95267590e-01,  4.95267590e-01,  4.95267590e-01,\n",
       "        4.95267590e-01,  4.95267590e-01,  4.95267590e-01,  4.95267590e-01,\n",
       "        4.95267590e-01,  4.95267590e-01,  4.95267590e-01,  5.25866298e-01,\n",
       "        5.34478679e-01,  5.20432131e-01,  5.20432131e-01,  7.08284821e-01,\n",
       "        5.06040556e-01,  5.09822634e-01,  5.09822634e-01,  6.29337391e-01,\n",
       "        3.53938349e-01,  3.53938349e-01,  1.35819799e-01,  1.82815085e-01,\n",
       "        1.82815085e-01,  1.78211297e-01,  1.22767725e-01,  1.22767725e-01,\n",
       "        1.22767725e-01,  1.22767725e-01,  1.22767725e-01,  1.22767725e-01,\n",
       "        1.22767725e-01,  1.22767725e-01,  1.22767725e-01,  1.22767725e-01,\n",
       "        1.22767725e-01,  1.22767725e-01,  1.22767725e-01,  1.22767725e-01,\n",
       "        1.29559086e-01,  1.24048278e-01,  1.24048278e-01,  1.24048278e-01,\n",
       "        1.24048278e-01,  1.24048278e-01,  1.24048278e-01,  1.24048278e-01,\n",
       "        1.24048278e-01,  1.24048278e-01,  1.24048278e-01,  1.19755311e-01,\n",
       "        1.21137081e-01,  1.21137081e-01,  1.00467896e-01,  1.12428246e-01,\n",
       "        1.06341065e-01,  1.06341065e-01,  5.27522421e-02,  3.20589050e-01,\n",
       "        3.20589050e-01,  2.91516049e-01,  5.63318477e-01,  5.63318477e-01,\n",
       "        5.63318477e-01,  5.63318477e-01,  5.62336368e-01,  5.69368351e-01,\n",
       "        5.69368351e-01,  5.00460963e-01,  3.08348720e-01,  3.21104086e-01,\n",
       "        3.15242565e-01,  3.17604307e-01,  3.08200586e-01,  3.08200586e-01,\n",
       "        3.32670791e-01,  3.35267857e-01,  3.35267857e-01,  3.35267857e-01,\n",
       "        3.35267857e-01,  3.35267857e-01,  3.26732907e-01,  3.55424269e-01,\n",
       "        3.55424269e-01,  3.55424269e-01,  3.55424269e-01,  3.56938537e-01,\n",
       "        3.38976415e-01,  3.43222549e-01,  3.37115088e-01,  3.37115088e-01,\n",
       "        3.37115088e-01,  3.37115088e-01,  3.37115088e-01,  3.37115088e-01,\n",
       "        3.37115088e-01,  3.37115088e-01,  3.37115088e-01,  3.37115088e-01,\n",
       "        3.37115088e-01,  3.37115088e-01,  3.37115088e-01,  3.37115088e-01,\n",
       "        3.37115088e-01,  5.11275555e-01,  2.47767301e-01,  2.47767301e-01,\n",
       "        2.47767301e-01,  2.47767301e-01,  2.47767301e-01,  2.47767301e-01,\n",
       "        2.47767301e-01,  2.44256855e-01,  2.44462030e-01,  2.44462030e-01,\n",
       "        2.40663644e-01,  2.60598533e-01,  2.60598533e-01,  2.60598533e-01,\n",
       "        2.60598533e-01,  2.60598533e-01,  2.60598533e-01,  2.57503032e-01,\n",
       "        2.67630338e-01,  2.67630338e-01,  2.67630338e-01,  2.67630338e-01,\n",
       "        2.67630338e-01,  2.71188812e-01,  2.70380910e-01,  2.70380910e-01,\n",
       "        3.38798287e-01,  2.57013246e-01,  2.57013246e-01,  2.57013246e-01,\n",
       "        2.57013246e-01,  2.57013246e-01,  2.57013246e-01,  2.57013246e-01,\n",
       "        2.57824811e-01,  2.50327368e-01,  2.50327368e-01,  1.94802968e-01,\n",
       "        2.34912043e-01,  2.34912043e-01,  2.34912043e-01,  2.34912043e-01,\n",
       "        2.34912043e-01,  2.34912043e-01,  2.34912043e-01,  2.53267179e-01,\n",
       "        2.39279383e-01,  2.39279383e-01,  2.39279383e-01,  2.39279383e-01,\n",
       "        2.43665005e-01,  2.34965223e-01,  2.34965223e-01,  2.34965223e-01,\n",
       "        2.34965223e-01,  2.39869261e-01,  2.30510315e-01,  2.30510315e-01,\n",
       "        2.30510315e-01,  2.30510315e-01,  2.30510315e-01,  2.30510315e-01,\n",
       "        2.34923547e-01,  2.28680958e-01,  2.28680958e-01,  2.28680958e-01,\n",
       "        2.28680958e-01,  2.28680958e-01,  2.28680958e-01,  2.28680958e-01,\n",
       "        2.28680958e-01,  2.28680958e-01,  2.28680958e-01,  2.28680958e-01,\n",
       "        2.28680958e-01,  2.28680958e-01,  2.28680958e-01,  2.28680958e-01,\n",
       "        2.28680958e-01,  2.28680958e-01,  2.35143233e-01,  2.27580165e-01,\n",
       "        2.27580165e-01,  2.27580165e-01,  2.27580165e-01,  2.48227860e-01,\n",
       "        2.33601351e-01,  2.33601351e-01,  2.33601351e-01,  2.33601351e-01,\n",
       "        2.33601351e-01,  2.33601351e-01,  2.33601351e-01,  2.33601351e-01,\n",
       "        2.33601351e-01,  2.33601351e-01,  2.33601351e-01,  2.33601351e-01,\n",
       "        2.33601351e-01,  2.33601351e-01,  2.33601351e-01,  2.33601351e-01,\n",
       "        2.33601351e-01,  2.26760196e-01,  2.32806562e-01,  2.32806562e-01,\n",
       "        2.32806562e-01,  2.57947230e-01,  2.40306643e-01,  2.40306643e-01,\n",
       "        2.40306643e-01,  2.40306643e-01,  2.40306643e-01,  2.40306643e-01,\n",
       "        2.40306643e-01,  2.40306643e-01,  2.40306643e-01,  2.40306643e-01,\n",
       "        2.40306643e-01,  2.40306643e-01,  2.40306643e-01,  2.40306643e-01,\n",
       "        2.40306643e-01,  2.40306643e-01,  2.40306643e-01,  2.40306643e-01,\n",
       "        2.50103932e-01,  5.01753512e-01,  4.23313921e-01,  4.23313921e-01,\n",
       "        4.23313921e-01,  4.23313921e-01,  4.33175626e-01,  4.30383576e-01,\n",
       "        4.40419648e-01,  4.42539345e-01,  4.39562279e-01,  4.30883747e-01,\n",
       "        4.42920378e-01,  4.38919695e-01,  4.29820296e-01,  4.29820296e-01,\n",
       "        4.29820296e-01,  4.32840532e-01,  4.29645243e-01,  4.29645243e-01,\n",
       "        4.29645243e-01,  4.29645243e-01,  4.29645243e-01,  4.29645243e-01,\n",
       "        4.29645243e-01,  4.29645243e-01,  4.29645243e-01,  4.29645243e-01,\n",
       "        4.29645243e-01,  4.29645243e-01,  3.96481243e-01,  2.85250305e-01,\n",
       "        2.95136399e-01,  2.95136399e-01,  2.95136399e-01,  2.95136399e-01,\n",
       "        2.95136399e-01,  2.95136399e-01,  2.95136399e-01,  2.95136399e-01,\n",
       "        2.95136399e-01,  3.17989964e-01,  2.82608276e-01,  2.82608276e-01,\n",
       "        2.82608276e-01,  2.82608276e-01,  3.01670841e-01,  2.47002157e-01,\n",
       "        2.47002157e-01,  2.47002157e-01,  2.35061318e-01,  2.46375726e-01,\n",
       "        2.46375726e-01,  2.46375726e-01,  2.46375726e-01,  2.46375726e-01,\n",
       "        2.46375726e-01,  2.46375726e-01,  2.46375726e-01,  2.46375726e-01,\n",
       "        2.46375726e-01,  2.46375726e-01,  2.46375726e-01,  2.46375726e-01,\n",
       "        2.46375726e-01,  2.46375726e-01,  2.46375726e-01,  2.46375726e-01,\n",
       "        2.46375726e-01,  2.46375726e-01,  2.46375726e-01,  2.80203470e-01,\n",
       "        2.77324925e-01,  3.61672138e-01,  3.40193008e-01,  3.40193008e-01,\n",
       "        3.40193008e-01,  3.40193008e-01,  3.40193008e-01,  3.40193008e-01,\n",
       "        3.40193008e-01,  3.91995211e-01,  3.86743413e-01,  3.86743413e-01,\n",
       "        3.99179443e-01,  4.18798150e-01,  4.18798150e-01,  4.18798150e-01,\n",
       "        4.40271192e-01,  4.89102975e-01,  4.85614354e-01,  4.85614354e-01,\n",
       "        4.86591710e-01,  4.83479836e-01,  4.83479836e-01,  4.83479836e-01,\n",
       "        4.83479836e-01,  4.83479836e-01,  4.83479836e-01,  4.89571012e-01,\n",
       "        3.51178854e-01,  3.51178854e-01,  3.51178854e-01,  3.51178854e-01,\n",
       "        3.51178854e-01,  3.51178854e-01,  3.51178854e-01,  3.51178854e-01,\n",
       "        3.51178854e-01,  3.51178854e-01,  3.51178854e-01,  3.51178854e-01,\n",
       "        3.51178854e-01,  6.91186097e-01,  6.47477796e-01,  6.47477796e-01,\n",
       "        6.47477796e-01,  6.47477796e-01,  6.47477796e-01,  6.47477796e-01,\n",
       "        6.47477796e-01,  6.47477796e-01,  6.47477796e-01,  6.47477796e-01,\n",
       "        6.47477796e-01,  6.87357604e-01,  6.73040956e-01,  2.94268214e-02,\n",
       "        1.62664659e-02, -5.51648522e-03,  1.87928037e-03, -4.90425763e-03,\n",
       "       -4.90425763e-03, -4.90425763e-03,  2.42398009e-02,  1.37334357e-02,\n",
       "        2.24716536e-02,  1.71718626e-02,  1.71718626e-02,  3.31753853e-03,\n",
       "        5.60962444e-01,  6.69282662e-01,  5.82953553e-01,  5.82953553e-01,\n",
       "        5.82953553e-01,  5.82953553e-01,  5.82953553e-01,  5.82953553e-01,\n",
       "        5.82953553e-01,  6.00918627e-01,  5.91326856e-01,  5.91326856e-01,\n",
       "        5.85103293e-01,  6.32397733e-01,  6.32397733e-01,  6.32397733e-01,\n",
       "        6.32397733e-01,  6.32397733e-01,  7.48861536e-01,  3.65442881e-01,\n",
       "        5.28135095e-01,             nan,             nan,             nan,\n",
       "                   nan,             nan,             nan,             nan,\n",
       "                   nan,             nan,             nan,             nan,\n",
       "                   nan,             nan,             nan,             nan,\n",
       "                   nan,             nan,             nan,             nan,\n",
       "                   nan,             nan,             nan,             nan,\n",
       "                   nan,             nan,             nan,             nan,\n",
       "                   nan,             nan,             nan,             nan,\n",
       "                   nan,             nan,             nan,             nan,\n",
       "                   nan,             nan,             nan,             nan,\n",
       "                   nan,             nan,             nan,             nan,\n",
       "                   nan,             nan,             nan,             nan,\n",
       "                   nan,             nan,             nan,             nan,\n",
       "                   nan,             nan,             nan,             nan,\n",
       "                   nan,             nan,             nan,             nan,\n",
       "                   nan,             nan,             nan,             nan,\n",
       "                   nan,             nan,             nan,             nan,\n",
       "                   nan,             nan,             nan,             nan,\n",
       "                   nan,             nan,             nan,             nan,\n",
       "                   nan,             nan,             nan,             nan,\n",
       "                   nan,             nan,             nan,             nan,\n",
       "                   nan,             nan,             nan,             nan,\n",
       "                   nan,             nan,             nan,             nan,\n",
       "                   nan,             nan,             nan,             nan,\n",
       "                   nan,             nan,             nan,             nan,\n",
       "                   nan,             nan,             nan,             nan,\n",
       "                   nan,             nan,             nan,             nan,\n",
       "                   nan,             nan,             nan,             nan,\n",
       "                   nan,             nan,             nan,             nan,\n",
       "                   nan,             nan,             nan,             nan,\n",
       "                   nan,             nan,             nan,             nan,\n",
       "                   nan,             nan,             nan,             nan,\n",
       "                   nan,             nan,             nan,             nan,\n",
       "                   nan,             nan,             nan,             nan,\n",
       "                   nan,             nan,             nan,             nan,\n",
       "                   nan,             nan,             nan,             nan,\n",
       "                   nan,             nan,             nan,             nan,\n",
       "                   nan,             nan,             nan,             nan,\n",
       "                   nan,             nan,             nan,             nan,\n",
       "                   nan,             nan,             nan,             nan,\n",
       "                   nan,             nan,             nan,             nan,\n",
       "                   nan,             nan,             nan,             nan,\n",
       "                   nan,             nan,             nan])"
      ]
     },
     "execution_count": 39,
     "metadata": {},
     "output_type": "execute_result"
    }
   ],
   "source": [
    "allel.xpehh(arrH, arrH2, posiH, min_ehh=0.2)"
   ]
  },
  {
   "cell_type": "markdown",
   "id": "f7fc3737",
   "metadata": {},
   "source": [
    "### Tajima D"
   ]
  },
  {
   "cell_type": "code",
   "execution_count": 50,
   "id": "8a222673",
   "metadata": {},
   "outputs": [
    {
     "data": {
      "text/plain": [
       "-0.7171168167623679"
      ]
     },
     "execution_count": 50,
     "metadata": {},
     "output_type": "execute_result"
    }
   ],
   "source": [
    "# british\n",
    "g = allel.GenotypeArray(gbrG)\n",
    "ac = g.count_alleles()\n",
    "allel.tajima_d(ac)"
   ]
  },
  {
   "cell_type": "code",
   "execution_count": 109,
   "id": "1d1db120",
   "metadata": {},
   "outputs": [
    {
     "data": {
      "text/plain": [
       "1.2795246729157983"
      ]
     },
     "execution_count": 109,
     "metadata": {},
     "output_type": "execute_result"
    }
   ],
   "source": [
    "# bengali\n",
    "g = allel.GenotypeArray(bebG)\n",
    "ac = g.count_alleles()\n",
    "allel.tajima_d(ac)"
   ]
  },
  {
   "cell_type": "code",
   "execution_count": 108,
   "id": "5de29b3d",
   "metadata": {},
   "outputs": [
    {
     "data": {
      "text/plain": [
       "1.1526123512596067"
      ]
     },
     "execution_count": 108,
     "metadata": {},
     "output_type": "execute_result"
    }
   ],
   "source": [
    "# peru\n",
    "g = allel.GenotypeArray(pelG)\n",
    "ac = g.count_alleles()\n",
    "allel.tajima_d(ac)"
   ]
  },
  {
   "cell_type": "code",
   "execution_count": 107,
   "id": "97ccba24",
   "metadata": {},
   "outputs": [
    {
     "data": {
      "text/plain": [
       "1.370615872873514"
      ]
     },
     "execution_count": 107,
     "metadata": {},
     "output_type": "execute_result"
    }
   ],
   "source": [
    "# china\n",
    "g = allel.GenotypeArray(cheG)\n",
    "ac = g.count_alleles()\n",
    "allel.tajima_d(ac)"
   ]
  },
  {
   "cell_type": "code",
   "execution_count": 110,
   "id": "c786e348",
   "metadata": {},
   "outputs": [
    {
     "data": {
      "text/plain": [
       "-0.04015478347124156"
      ]
     },
     "execution_count": 110,
     "metadata": {},
     "output_type": "execute_result"
    }
   ],
   "source": [
    "# nigeria\n",
    "g = allel.GenotypeArray(esnG)\n",
    "ac = g.count_alleles()\n",
    "allel.tajima_d(ac)"
   ]
  },
  {
   "cell_type": "code",
   "execution_count": 52,
   "id": "5acc16e6",
   "metadata": {},
   "outputs": [
    {
     "data": {
      "text/plain": [
       "array([-1.4390487 ,  1.11253559, -0.41472605,  0.69572628, -1.05028639,\n",
       "        0.24645094,  0.73594978,  1.3457841 , -1.23238556])"
      ]
     },
     "execution_count": 52,
     "metadata": {},
     "output_type": "execute_result"
    }
   ],
   "source": [
    "allel.moving_delta_tajima_d(ac1, ac2, 100)"
   ]
  },
  {
   "cell_type": "code",
   "execution_count": null,
   "id": "351a3d70",
   "metadata": {},
   "outputs": [],
   "source": [
    "## write a function, to get all fsts and delta_moving tajimas D for all possible combinations"
   ]
  },
  {
   "cell_type": "code",
   "execution_count": null,
   "id": "5182a8c8",
   "metadata": {},
   "outputs": [],
   "source": [
    "# Fst: A with B, A with C, A with D, A with E, B with C, B with D, B with E, C with D, C with E:, D with E"
   ]
  },
  {
   "cell_type": "code",
   "execution_count": null,
   "id": "73e46739",
   "metadata": {},
   "outputs": [],
   "source": []
  }
 ],
 "metadata": {
  "kernelspec": {
   "display_name": "Python 3",
   "language": "python",
   "name": "python3"
  },
  "language_info": {
   "codemirror_mode": {
    "name": "ipython",
    "version": 3
   },
   "file_extension": ".py",
   "mimetype": "text/x-python",
   "name": "python",
   "nbconvert_exporter": "python",
   "pygments_lexer": "ipython3",
   "version": "3.8.8"
  }
 },
 "nbformat": 4,
 "nbformat_minor": 5
}
