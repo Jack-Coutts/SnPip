{
 "cells": [
  {
   "cell_type": "code",
   "execution_count": 2,
   "id": "e7203d26-b270-4650-ae87-0ccd26c8bdc9",
   "metadata": {},
   "outputs": [],
   "source": [
    "import math\n",
    "from math import log as ln\n",
    "\n",
    "def sdi(*af):\n",
    "    index = []\n",
    "    \n",
    "    while True:\n",
    "        for x in af:\n",
    "            if x > 0:\n",
    "                Pi = (x) * ln(x)\n",
    "                index.append(Pi)\n",
    "        H = -sum(index)\n",
    "        return H"
   ]
  },
  {
   "cell_type": "code",
   "execution_count": 3,
   "id": "017ed50c-53ac-4396-a012-65bee3289eee",
   "metadata": {},
   "outputs": [
    {
     "data": {
      "text/plain": [
       "0.5389996220768931"
      ]
     },
     "execution_count": 3,
     "metadata": {},
     "output_type": "execute_result"
    }
   ],
   "source": [
    "sdi(0.12,0.15,0,0,0)"
   ]
  }
 ],
 "metadata": {
  "kernelspec": {
   "display_name": "Python 3 (ipykernel)",
   "language": "python",
   "name": "python3"
  },
  "language_info": {
   "codemirror_mode": {
    "name": "ipython",
    "version": 3
   },
   "file_extension": ".py",
   "mimetype": "text/x-python",
   "name": "python",
   "nbconvert_exporter": "python",
   "pygments_lexer": "ipython3",
   "version": "3.9.7"
  }
 },
 "nbformat": 4,
 "nbformat_minor": 5
}
