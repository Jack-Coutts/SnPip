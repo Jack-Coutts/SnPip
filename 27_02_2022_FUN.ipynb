{
 "cells": [
  {
   "cell_type": "code",
   "execution_count": 1,
   "id": "e1e59411",
   "metadata": {},
   "outputs": [],
   "source": [
    "import numpy as np\n",
    "import pandas as pd\n",
    "import allel\n",
    "import math"
   ]
  },
  {
   "cell_type": "code",
   "execution_count": 2,
   "id": "b5beb773",
   "metadata": {},
   "outputs": [
    {
     "data": {
      "text/html": [
       "<div>\n",
       "<style scoped>\n",
       "    .dataframe tbody tr th:only-of-type {\n",
       "        vertical-align: middle;\n",
       "    }\n",
       "\n",
       "    .dataframe tbody tr th {\n",
       "        vertical-align: top;\n",
       "    }\n",
       "\n",
       "    .dataframe thead th {\n",
       "        text-align: right;\n",
       "    }\n",
       "</style>\n",
       "<table border=\"1\" class=\"dataframe\">\n",
       "  <thead>\n",
       "    <tr style=\"text-align: right;\">\n",
       "      <th></th>\n",
       "      <th>rsID</th>\n",
       "      <th>sequence</th>\n",
       "    </tr>\n",
       "  </thead>\n",
       "  <tbody>\n",
       "    <tr>\n",
       "      <th>0</th>\n",
       "      <td>rs577013928</td>\n",
       "      <td>ttttttttttttttttttttttttttttttttttttttttttttt...</td>\n",
       "    </tr>\n",
       "    <tr>\n",
       "      <th>1</th>\n",
       "      <td>rs565082899</td>\n",
       "      <td>ttttttttttttttttttttttttttttttttttttttttttttt...</td>\n",
       "    </tr>\n",
       "    <tr>\n",
       "      <th>2</th>\n",
       "      <td>rs540382744</td>\n",
       "      <td>ttttttttttttttttttttttttttttttttttttttttttttt...</td>\n",
       "    </tr>\n",
       "    <tr>\n",
       "      <th>3</th>\n",
       "      <td>rs573244332</td>\n",
       "      <td>ttttttttttttttttttttttttttttttttttttttttttttt...</td>\n",
       "    </tr>\n",
       "    <tr>\n",
       "      <th>4</th>\n",
       "      <td>rs539162497</td>\n",
       "      <td>ttttttttttttttttttttttttttttttttttttttttttttt...</td>\n",
       "    </tr>\n",
       "  </tbody>\n",
       "</table>\n",
       "</div>"
      ],
      "text/plain": [
       "          rsID                                           sequence\n",
       "0  rs577013928   ttttttttttttttttttttttttttttttttttttttttttttt...\n",
       "1  rs565082899   ttttttttttttttttttttttttttttttttttttttttttttt...\n",
       "2  rs540382744   ttttttttttttttttttttttttttttttttttttttttttttt...\n",
       "3  rs573244332   ttttttttttttttttttttttttttttttttttttttttttttt...\n",
       "4  rs539162497   ttttttttttttttttttttttttttttttttttttttttttttt..."
      ]
     },
     "execution_count": 2,
     "metadata": {},
     "output_type": "execute_result"
    }
   ],
   "source": [
    "encoded = pd.read_csv(\"encoded.csv\", header=0, names=['rsID', 'sequence'])\n",
    "encoded.head()"
   ]
  },
  {
   "cell_type": "code",
   "execution_count": 3,
   "id": "3ea4e62e",
   "metadata": {},
   "outputs": [],
   "source": [
    "def makeArray(strings):\n",
    "    \n",
    "    # initialize sample array with empty list\n",
    "    bebG, cheG, esnG, gbrG, pelG = [], [], [], [], []\n",
    "    bebH, cheH, esnH, gbrH, pelH = [], [], [], [], []\n",
    "    \n",
    "    # swap the keys and values in the dictionary below\n",
    "    nested_dictionary = {'GBR':{'e':'a', 'f':'b', 'g':'c', 'h': 'd'},\n",
    "                         'PEL':{'i':'a', 'j':'b', 'k':'c', 'l': 'd'},\n",
    "                         'ESN':{'m':'a', 'n':'b', 'o':'c', 'p': 'd'},\n",
    "                         'BEB':{'q':'a', 'r':'b', 's':'c', 't': 'd'},\n",
    "                         'CHE':{'u':'a', 'v':'b', 'w':'c', 'x': 'd'}}\n",
    "\n",
    "    ginfo = {'a':'1|0', 'b':'1|1', 'c':'0|1', 'd':'0|0'}\n",
    "\n",
    "    dic = {'e':'GBR', 'f':'GBR', 'g':'GBR', 'h':'GBR',\n",
    "           'i':'PEL', 'j':'PEL', 'k':'PEL', 'l':'PEL',\n",
    "           'm':'ESN', 'n':'ESN', 'o':'ESN', 'p':'ESN',\n",
    "           'q':'BEB', 'r':'BEB', 's':'BEB', 't':'BEB',\n",
    "           'u':'CHE', 'v':'CHE', 'w':'CHE', 'x':'CHE'}\n",
    "\n",
    "    for string in strings:\n",
    "        if isinstance(string, str):\n",
    "            string = string.strip()\n",
    "        genotypes = {}\n",
    "        N = len(string)\n",
    "         # initialize haplotype dictionary with 462 zeros for each sample\n",
    "        haplotypes = {'BEB':[0]*N, 'CHE':[0]*N, 'ESN':[0]*N, 'GBR':[0]*N, 'PEL':[0]*N}\n",
    "\n",
    "        for i, c in enumerate(string):\n",
    "            # take sample as key and 0|1 etc as value\n",
    "            genotypes.setdefault(dic[c], []).append(ginfo[nested_dictionary[dic[c]][c]])\n",
    "            # set 1 in which position sample present\n",
    "            haplotypes[dic[c]][i] = 1\n",
    "\n",
    "        # sort dictionary alphabetically\n",
    "        genotypes = dict(sorted(genotypes.items(), key = lambda x:x[0].lower()))\n",
    "        # split each 0|1 etc by | and make a list,,,thus apply on each sample\n",
    "        genotype_array = [[list(map(int, v.split('|'))) for v in val] for val in genotypes.values()]\n",
    "        # create haplotype array\n",
    "        haplotype_array = [val for val in haplotypes.values()]\n",
    "\n",
    "        # extracting genotype array samples\n",
    "        bebG.append(genotype_array[0])\n",
    "        cheG.append(genotype_array[1])\n",
    "        esnG.append(genotype_array[2])\n",
    "        gbrG.append(genotype_array[3])\n",
    "        pelG.append(genotype_array[4])\n",
    "        \n",
    "        # extracting haplotype array samples\n",
    "        bebH.append(haplotype_array[0])\n",
    "        cheH.append(haplotype_array[1])\n",
    "        esnH.append(haplotype_array[2])\n",
    "        gbrH.append(haplotype_array[3])\n",
    "        pelH.append(haplotype_array[4])\n",
    "        \n",
    "    return (bebG, cheG, esnG, gbrG, pelG)"
   ]
  },
  {
   "cell_type": "code",
   "execution_count": 4,
   "id": "ce03d05e",
   "metadata": {},
   "outputs": [],
   "source": [
    "# passing first 3 sequences into makeArray function\n",
    "g = makeArray(encoded['sequence'].iloc[0:1]) # we can pass a list inside the function as [snp1, snp2, snp3, ...]\n",
    "\n",
    "# extract genotype array into samples\n",
    "bebG, cheG, esnG, gbrG, pelG = g\n",
    "\n",
    "# extract haplotype array into samples\n",
    "# bebH, cheH, esnH, gbrH, pelH = h"
   ]
  },
  {
   "cell_type": "code",
   "execution_count": null,
   "id": "185e8a79",
   "metadata": {},
   "outputs": [],
   "source": []
  },
  {
   "cell_type": "code",
   "execution_count": 5,
   "id": "21667cd4",
   "metadata": {},
   "outputs": [],
   "source": [
    "from itertools import combinations\n",
    "\n",
    "def calc_hudson_fst(strings):\n",
    "    # passing sequences into makeArray function\n",
    "    g = makeArray(strings)\n",
    "    # extract genotype array into samples\n",
    "    bebG, cheG, esnG, gbrG, pelG = g\n",
    "    \n",
    "    FSTs = {}\n",
    "    \n",
    "    for pair,val in zip( combinations(['bebG','cheG','esnG','gbrG','pelG'],2), combinations([bebG,cheG,esnG,gbrG,pelG],2)):\n",
    "        ac1 = allel.GenotypeArray(val[0]).count_alleles()\n",
    "        ac2 = allel.GenotypeArray(val[1]).count_alleles()\n",
    "        num, den = allel.hudson_fst(ac1, ac2)\n",
    "        fst = np.sum(num)/np.sum(den)\n",
    "        FSTs.update({pair : fst})\n",
    "    \n",
    "    return FSTs"
   ]
  },
  {
   "cell_type": "code",
   "execution_count": 6,
   "id": "3472da68",
   "metadata": {},
   "outputs": [
    {
     "data": {
      "text/plain": [
       "3.6666666666666665"
      ]
     },
     "execution_count": 6,
     "metadata": {},
     "output_type": "execute_result"
    }
   ],
   "source": [
    "11/3"
   ]
  },
  {
   "cell_type": "code",
   "execution_count": 7,
   "id": "cca8fa51",
   "metadata": {},
   "outputs": [
    {
     "data": {
      "text/plain": [
       "3"
      ]
     },
     "execution_count": 7,
     "metadata": {},
     "output_type": "execute_result"
    }
   ],
   "source": [
    "11//3"
   ]
  },
  {
   "cell_type": "code",
   "execution_count": 8,
   "id": "5ad29be2",
   "metadata": {},
   "outputs": [
    {
     "data": {
      "text/plain": [
       "3"
      ]
     },
     "execution_count": 8,
     "metadata": {},
     "output_type": "execute_result"
    }
   ],
   "source": [
    "# floor, ceil\n",
    "\n",
    "math.floor(11/3)"
   ]
  },
  {
   "cell_type": "code",
   "execution_count": 9,
   "id": "245b40eb",
   "metadata": {},
   "outputs": [
    {
     "data": {
      "text/plain": [
       "4"
      ]
     },
     "execution_count": 9,
     "metadata": {},
     "output_type": "execute_result"
    }
   ],
   "source": [
    "math.ceil(11/3)"
   ]
  },
  {
   "cell_type": "code",
   "execution_count": null,
   "id": "886c7a4c",
   "metadata": {},
   "outputs": [],
   "source": []
  },
  {
   "cell_type": "code",
   "execution_count": null,
   "id": "b0922e19",
   "metadata": {},
   "outputs": [],
   "source": []
  },
  {
   "cell_type": "code",
   "execution_count": null,
   "id": "8abde214",
   "metadata": {},
   "outputs": [],
   "source": []
  },
  {
   "cell_type": "code",
   "execution_count": null,
   "id": "ee2312a6",
   "metadata": {},
   "outputs": [],
   "source": []
  },
  {
   "cell_type": "markdown",
   "id": "caa68739",
   "metadata": {},
   "source": [
    "### Here  the FUN begins :)"
   ]
  },
  {
   "cell_type": "code",
   "execution_count": 10,
   "id": "d5106c58",
   "metadata": {
    "scrolled": false
   },
   "outputs": [
    {
     "name": "stdout",
     "output_type": "stream",
     "text": [
      "[205, 444, 598, 763, 1186, 1531, 1587, 1651, 1823, 1828, 2031, 2097, 2271, 2306, 2740, 3556, 4122, 4145, 4216, 4277, 4499, 4576, 4611, 4774, 4827, 4933, 4988, 5356, 5569, 5869, 6202, 6329, 6470, 6586, 6603, 6660, 6714, 6745, 6843, 6927, 7055, 7426, 7452, 7464, 7658, 7970, 7977, 7988, 8340, 8386, 8387, 8535, 8740, 8943, 9009, 9166, 9689, 9703, 9747, 9753, 9824, 10438, 11045, 11322, 11452, 11506, 12009, 12148, 12149, 12926, 12939, 13059, 13105, 13110, 13486, 13491, 13698, 13866, 13946, 14064, 14199, 14653, 14912, 15138, 15240, 15707, 15785, 15993, 16446, 16907, 17180, 17323, 17396, 18014, 18152, 18464, 18472, 18497, 19326, 19861]\n",
      "{1: [0, 1, 2, 3], 2: [4, 5, 6, 7, 8, 9], 3: [10, 11, 12, 13, 14], 4: [15], 5: [16, 17, 18, 19, 20, 21, 22, 23, 24, 25, 26], 6: [27, 28, 29], 7: [30, 31, 32, 33, 34, 35, 36, 37, 38, 39], 8: [40, 41, 42, 43, 44, 45, 46, 47], 9: [48, 49, 50, 51, 52, 53], 10: [54, 55, 56, 57, 58, 59, 60], 11: [61], 12: [62, 63, 64, 65], 13: [66, 67, 68, 69, 70], 14: [71, 72, 73, 74, 75, 76, 77, 78], 15: [79, 80, 81, 82], 16: [83, 84, 85, 86, 87], 17: [88, 89], 18: [90, 91, 92], 19: [93, 94, 95, 96, 97], 20: [98, 99]}\n",
      "{1: [205, 444, 598, 763], 2: [1186, 1531, 1587, 1651, 1823, 1828], 3: [2031, 2097, 2271, 2306, 2740], 4: [3556], 5: [4122, 4145, 4216, 4277, 4499, 4576, 4611, 4774, 4827, 4933, 4988], 6: [5356, 5569, 5869], 7: [6202, 6329, 6470, 6586, 6603, 6660, 6714, 6745, 6843, 6927], 8: [7055, 7426, 7452, 7464, 7658, 7970, 7977, 7988], 9: [8340, 8386, 8387, 8535, 8740, 8943], 10: [9009, 9166, 9689, 9703, 9747, 9753, 9824], 11: [10438], 12: [11045, 11322, 11452, 11506], 13: [12009, 12148, 12149, 12926, 12939], 14: [13059, 13105, 13110, 13486, 13491, 13698, 13866, 13946], 15: [14064, 14199, 14653, 14912], 16: [15138, 15240, 15707, 15785, 15993], 17: [16446, 16907], 18: [17180, 17323, 17396], 19: [18014, 18152, 18464, 18472, 18497], 20: [19326, 19861]}\n"
     ]
    }
   ],
   "source": [
    "import math\n",
    "import numpy as np\n",
    "\n",
    "numbers = list(range(20000))\n",
    "# creating list of 100 integers by randomly choosing value from 0 to 20000\n",
    "positions = [np.random.choice(numbers) for _ in range(100)]\n",
    "print(sorted(positions))\n",
    "\n",
    "position_dict = {}\n",
    "indices = {}\n",
    "\n",
    "for i, num in enumerate(sorted(positions)):\n",
    "    # take upper integer value of num\n",
    "    n = math.ceil(num/1000)\n",
    "    # add the indices to the corresponding key as n\n",
    "    indices.setdefault(n, []).append(i)\n",
    "    # add the positions to the corresponding key as n\n",
    "    position_dict.setdefault(n, []).append(num)\n",
    "\n",
    "# sort the dictionaries\n",
    "indices = dict(sorted(indices.items(), key=lambda x:x[0]))\n",
    "print(indices)\n",
    "position_dict = dict(sorted(position_dict.items(), key=lambda x:x[0]))\n",
    "print(position_dict)"
   ]
  },
  {
   "cell_type": "code",
   "execution_count": 11,
   "id": "7833b9aa",
   "metadata": {},
   "outputs": [
    {
     "name": "stdout",
     "output_type": "stream",
     "text": [
      "{('bebG', 'cheG'): {1: nan, 2: nan, 3: 0.03543337016195934, 4: nan, 5: 0.03173478728221308, 6: 0.0, 7: 0.009218226361340315, 8: 0.012315589154460021, 9: 0.03920352486186563, 10: 0.07317073170731694, 11: nan, 12: 0.03225512282548355, 13: 0.0, 14: 0.02583256702309786, 15: 0.02548853462188253, 16: 0.024153937500207296, 17: nan, 18: nan, 19: 0.0, 20: 0.0012092489093636133}, ('bebG', 'esnG'): {1: nan, 2: 0.0, 3: 0.021540710717167916, 4: nan, 5: 0.055822692659454644, 6: nan, 7: 0.11583692065065801, 8: 0.0023597201262175915, 9: 0.3369898338571044, 10: 0.008121827411167525, 11: nan, 12: 0.09372912770504943, 13: 0.0, 14: 0.17329725387952882, 15: 0.19952230362401444, 16: 0.12555595702285982, 17: 0.0, 18: 0.04060913705583763, 19: -0.004189232540146793, 20: 0.11111111111111115}, ('bebG', 'gbrG'): {1: nan, 2: nan, 3: 0.06790303197805556, 4: nan, 5: 0.008564171274548556, 6: nan, 7: 0.02786516593329824, 8: -0.0003413530222385175, 9: 0.005124760878514103, 10: nan, 11: nan, 12: 0.0018063795563675869, 13: -0.005681818181818218, 14: -0.0025277145849131456, 15: 0.17686647722140597, 16: 0.14363614331300245, 17: nan, 18: nan, 19: 0.0, 20: -0.0013020266364765526}, ('bebG', 'pelG'): {1: nan, 2: nan, 3: 0.017330127948078904, 4: nan, 5: 0.030474395908104808, 6: 0.0, 7: 0.023492039567586664, 8: -0.002888966237382457, 9: 0.03757203492034016, 10: 0.24287251210328137, 11: nan, 12: 0.14840778160789975, 13: 0.0, 14: 0.019129387455179354, 15: 0.0982985728994438, 16: 0.053690939403831586, 17: nan, 18: nan, 19: 0.0, 20: 0.22142096513533097}, ('cheG', 'esnG'): {1: nan, 2: 0.0, 3: 0.05836813036299754, 4: nan, 5: 0.06346645582573018, 6: 0.0, 7: 0.2031718149879352, 8: 0.022497749363382502, 9: 0.31978872868728375, 10: 0.05721066228734698, 11: nan, 12: 0.22471701329646407, 13: nan, 14: 0.07324409732610664, 15: 0.10722590445395752, 16: 0.056511422198274916, 17: 0.0, 18: 0.04060913705583763, 19: 0.003428476325205964, 20: 0.15121951219512195}, ('cheG', 'gbrG'): {1: nan, 2: nan, 3: 0.19165261895798888, 4: nan, 5: 0.07167534220761312, 6: 0.0, 7: 0.08166462574698329, 8: 0.00920316277249688, 9: 0.06740867665105854, 10: 0.07317073170731694, 11: nan, 12: 0.07139733012214206, 13: 0.0, 14: 0.009789385645985497, 15: 0.08238388525480853, 16: 0.06352814661030877, 17: nan, 18: nan, 19: 0.0, 20: 0.016038983485067757}, ('cheG', 'pelG'): {1: nan, 2: nan, 3: 0.0036668097083743024, 4: nan, 5: 0.019755906089788403, 6: -0.005347593582887675, 7: 0.0758335807180571, 8: 0.012353540845027527, 9: 0.12031579497401503, 10: 0.09842629130938159, 11: nan, 12: 0.16770731445113948, 13: nan, 14: 0.09439528271228857, 15: 0.021598747022774662, 16: 0.0015771509946648325, 17: nan, 18: nan, 19: 0.0, 20: 0.16750191477765283}, ('esnG', 'gbrG'): {1: nan, 2: 0.0, 3: 0.09675356717141077, 4: nan, 5: 0.04409490085641908, 6: nan, 7: 0.03501334268049934, 8: 0.008780012158291094, 9: 0.2930744944980147, 10: 0.008121827411167525, 11: nan, 12: 0.05098151252628839, 13: 0.0, 14: 0.13984227235919494, 15: 0.013350855013499188, 16: 0.01922796355641866, 17: 0.0, 18: 0.04060913705583763, 19: 0.005076142131979704, 20: 0.08287292817679567}, ('esnG', 'pelG'): {1: nan, 2: 0.0, 3: 0.02078511113580761, 4: nan, 5: 0.045585619253510276, 6: 0.0, 7: 0.044568636826325024, 8: 0.00552864618362131, 9: 0.2722738063554767, 10: 0.22200469344732063, 11: nan, 12: 0.2236642686654943, 13: nan, 14: 0.2659846866200641, 15: 0.04353350260582222, 16: 0.029607056817920856, 17: 0.0, 18: 0.04060913705583763, 19: 0.005076142131979704, 20: 0.4319526627218935}, ('gbrG', 'pelG'): {1: nan, 2: nan, 3: 0.14944938295224527, 4: nan, 5: 0.050408830210175816, 6: 0.0, 7: 0.011244612534383377, 8: -0.004884912679967195, 9: 0.006047342011877045, 10: 0.24287251210328137, 11: nan, 12: 0.15984373208130115, 13: 0.0, 14: 0.03812122299160128, 15: 0.01874820970885426, 16: 0.030191917615852677, 17: nan, 18: nan, 19: nan, 20: 0.2659155445860597}}\n"
     ]
    },
    {
     "name": "stderr",
     "output_type": "stream",
     "text": [
      "<ipython-input-5-cc19d82a49c6>:15: RuntimeWarning: invalid value encountered in double_scalars\n",
      "  fst = np.sum(num)/np.sum(den)\n"
     ]
    }
   ],
   "source": [
    "fst_dict1 = {}\n",
    "fst_dict2 = {}\n",
    "index_positions = {}\n",
    "\n",
    "for i, val in indices.items():\n",
    "    results = calc_hudson_fst(encoded.iloc[val]['sequence'])\n",
    "    #print(results)\n",
    "    \n",
    "    # update index_positions dictionary as {i : range} pair\n",
    "    index_positions.update({i : str(val[0])+':'+str(val[-1])})\n",
    "    \n",
    "    # update fst_dict2 dictionary as {i : results} pair\n",
    "    fst_dict2.update({i : results})\n",
    "    \n",
    "    for k, v in results.items():\n",
    "        # nested dictionary as {pops : {index : fst_value}}\n",
    "        fst_dict1.setdefault(k, {}).update({i : v})\n",
    "        \n",
    "print(fst_dict1)"
   ]
  },
  {
   "cell_type": "code",
   "execution_count": 12,
   "id": "5a57c1f8",
   "metadata": {},
   "outputs": [
    {
     "name": "stdout",
     "output_type": "stream",
     "text": [
      "{1: {('bebG', 'cheG'): nan, ('bebG', 'esnG'): nan, ('bebG', 'gbrG'): nan, ('bebG', 'pelG'): nan, ('cheG', 'esnG'): nan, ('cheG', 'gbrG'): nan, ('cheG', 'pelG'): nan, ('esnG', 'gbrG'): nan, ('esnG', 'pelG'): nan, ('gbrG', 'pelG'): nan}, 2: {('bebG', 'cheG'): nan, ('bebG', 'esnG'): 0.0, ('bebG', 'gbrG'): nan, ('bebG', 'pelG'): nan, ('cheG', 'esnG'): 0.0, ('cheG', 'gbrG'): nan, ('cheG', 'pelG'): nan, ('esnG', 'gbrG'): 0.0, ('esnG', 'pelG'): 0.0, ('gbrG', 'pelG'): nan}, 3: {('bebG', 'cheG'): 0.03543337016195934, ('bebG', 'esnG'): 0.021540710717167916, ('bebG', 'gbrG'): 0.06790303197805556, ('bebG', 'pelG'): 0.017330127948078904, ('cheG', 'esnG'): 0.05836813036299754, ('cheG', 'gbrG'): 0.19165261895798888, ('cheG', 'pelG'): 0.0036668097083743024, ('esnG', 'gbrG'): 0.09675356717141077, ('esnG', 'pelG'): 0.02078511113580761, ('gbrG', 'pelG'): 0.14944938295224527}, 4: {('bebG', 'cheG'): nan, ('bebG', 'esnG'): nan, ('bebG', 'gbrG'): nan, ('bebG', 'pelG'): nan, ('cheG', 'esnG'): nan, ('cheG', 'gbrG'): nan, ('cheG', 'pelG'): nan, ('esnG', 'gbrG'): nan, ('esnG', 'pelG'): nan, ('gbrG', 'pelG'): nan}, 5: {('bebG', 'cheG'): 0.03173478728221308, ('bebG', 'esnG'): 0.055822692659454644, ('bebG', 'gbrG'): 0.008564171274548556, ('bebG', 'pelG'): 0.030474395908104808, ('cheG', 'esnG'): 0.06346645582573018, ('cheG', 'gbrG'): 0.07167534220761312, ('cheG', 'pelG'): 0.019755906089788403, ('esnG', 'gbrG'): 0.04409490085641908, ('esnG', 'pelG'): 0.045585619253510276, ('gbrG', 'pelG'): 0.050408830210175816}, 6: {('bebG', 'cheG'): 0.0, ('bebG', 'esnG'): nan, ('bebG', 'gbrG'): nan, ('bebG', 'pelG'): 0.0, ('cheG', 'esnG'): 0.0, ('cheG', 'gbrG'): 0.0, ('cheG', 'pelG'): -0.005347593582887675, ('esnG', 'gbrG'): nan, ('esnG', 'pelG'): 0.0, ('gbrG', 'pelG'): 0.0}, 7: {('bebG', 'cheG'): 0.009218226361340315, ('bebG', 'esnG'): 0.11583692065065801, ('bebG', 'gbrG'): 0.02786516593329824, ('bebG', 'pelG'): 0.023492039567586664, ('cheG', 'esnG'): 0.2031718149879352, ('cheG', 'gbrG'): 0.08166462574698329, ('cheG', 'pelG'): 0.0758335807180571, ('esnG', 'gbrG'): 0.03501334268049934, ('esnG', 'pelG'): 0.044568636826325024, ('gbrG', 'pelG'): 0.011244612534383377}, 8: {('bebG', 'cheG'): 0.012315589154460021, ('bebG', 'esnG'): 0.0023597201262175915, ('bebG', 'gbrG'): -0.0003413530222385175, ('bebG', 'pelG'): -0.002888966237382457, ('cheG', 'esnG'): 0.022497749363382502, ('cheG', 'gbrG'): 0.00920316277249688, ('cheG', 'pelG'): 0.012353540845027527, ('esnG', 'gbrG'): 0.008780012158291094, ('esnG', 'pelG'): 0.00552864618362131, ('gbrG', 'pelG'): -0.004884912679967195}, 9: {('bebG', 'cheG'): 0.03920352486186563, ('bebG', 'esnG'): 0.3369898338571044, ('bebG', 'gbrG'): 0.005124760878514103, ('bebG', 'pelG'): 0.03757203492034016, ('cheG', 'esnG'): 0.31978872868728375, ('cheG', 'gbrG'): 0.06740867665105854, ('cheG', 'pelG'): 0.12031579497401503, ('esnG', 'gbrG'): 0.2930744944980147, ('esnG', 'pelG'): 0.2722738063554767, ('gbrG', 'pelG'): 0.006047342011877045}, 10: {('bebG', 'cheG'): 0.07317073170731694, ('bebG', 'esnG'): 0.008121827411167525, ('bebG', 'gbrG'): nan, ('bebG', 'pelG'): 0.24287251210328137, ('cheG', 'esnG'): 0.05721066228734698, ('cheG', 'gbrG'): 0.07317073170731694, ('cheG', 'pelG'): 0.09842629130938159, ('esnG', 'gbrG'): 0.008121827411167525, ('esnG', 'pelG'): 0.22200469344732063, ('gbrG', 'pelG'): 0.24287251210328137}, 11: {('bebG', 'cheG'): nan, ('bebG', 'esnG'): nan, ('bebG', 'gbrG'): nan, ('bebG', 'pelG'): nan, ('cheG', 'esnG'): nan, ('cheG', 'gbrG'): nan, ('cheG', 'pelG'): nan, ('esnG', 'gbrG'): nan, ('esnG', 'pelG'): nan, ('gbrG', 'pelG'): nan}, 12: {('bebG', 'cheG'): 0.03225512282548355, ('bebG', 'esnG'): 0.09372912770504943, ('bebG', 'gbrG'): 0.0018063795563675869, ('bebG', 'pelG'): 0.14840778160789975, ('cheG', 'esnG'): 0.22471701329646407, ('cheG', 'gbrG'): 0.07139733012214206, ('cheG', 'pelG'): 0.16770731445113948, ('esnG', 'gbrG'): 0.05098151252628839, ('esnG', 'pelG'): 0.2236642686654943, ('gbrG', 'pelG'): 0.15984373208130115}, 13: {('bebG', 'cheG'): 0.0, ('bebG', 'esnG'): 0.0, ('bebG', 'gbrG'): -0.005681818181818218, ('bebG', 'pelG'): 0.0, ('cheG', 'esnG'): nan, ('cheG', 'gbrG'): 0.0, ('cheG', 'pelG'): nan, ('esnG', 'gbrG'): 0.0, ('esnG', 'pelG'): nan, ('gbrG', 'pelG'): 0.0}, 14: {('bebG', 'cheG'): 0.02583256702309786, ('bebG', 'esnG'): 0.17329725387952882, ('bebG', 'gbrG'): -0.0025277145849131456, ('bebG', 'pelG'): 0.019129387455179354, ('cheG', 'esnG'): 0.07324409732610664, ('cheG', 'gbrG'): 0.009789385645985497, ('cheG', 'pelG'): 0.09439528271228857, ('esnG', 'gbrG'): 0.13984227235919494, ('esnG', 'pelG'): 0.2659846866200641, ('gbrG', 'pelG'): 0.03812122299160128}, 15: {('bebG', 'cheG'): 0.02548853462188253, ('bebG', 'esnG'): 0.19952230362401444, ('bebG', 'gbrG'): 0.17686647722140597, ('bebG', 'pelG'): 0.0982985728994438, ('cheG', 'esnG'): 0.10722590445395752, ('cheG', 'gbrG'): 0.08238388525480853, ('cheG', 'pelG'): 0.021598747022774662, ('esnG', 'gbrG'): 0.013350855013499188, ('esnG', 'pelG'): 0.04353350260582222, ('gbrG', 'pelG'): 0.01874820970885426}, 16: {('bebG', 'cheG'): 0.024153937500207296, ('bebG', 'esnG'): 0.12555595702285982, ('bebG', 'gbrG'): 0.14363614331300245, ('bebG', 'pelG'): 0.053690939403831586, ('cheG', 'esnG'): 0.056511422198274916, ('cheG', 'gbrG'): 0.06352814661030877, ('cheG', 'pelG'): 0.0015771509946648325, ('esnG', 'gbrG'): 0.01922796355641866, ('esnG', 'pelG'): 0.029607056817920856, ('gbrG', 'pelG'): 0.030191917615852677}, 17: {('bebG', 'cheG'): nan, ('bebG', 'esnG'): 0.0, ('bebG', 'gbrG'): nan, ('bebG', 'pelG'): nan, ('cheG', 'esnG'): 0.0, ('cheG', 'gbrG'): nan, ('cheG', 'pelG'): nan, ('esnG', 'gbrG'): 0.0, ('esnG', 'pelG'): 0.0, ('gbrG', 'pelG'): nan}, 18: {('bebG', 'cheG'): nan, ('bebG', 'esnG'): 0.04060913705583763, ('bebG', 'gbrG'): nan, ('bebG', 'pelG'): nan, ('cheG', 'esnG'): 0.04060913705583763, ('cheG', 'gbrG'): nan, ('cheG', 'pelG'): nan, ('esnG', 'gbrG'): 0.04060913705583763, ('esnG', 'pelG'): 0.04060913705583763, ('gbrG', 'pelG'): nan}, 19: {('bebG', 'cheG'): 0.0, ('bebG', 'esnG'): -0.004189232540146793, ('bebG', 'gbrG'): 0.0, ('bebG', 'pelG'): 0.0, ('cheG', 'esnG'): 0.003428476325205964, ('cheG', 'gbrG'): 0.0, ('cheG', 'pelG'): 0.0, ('esnG', 'gbrG'): 0.005076142131979704, ('esnG', 'pelG'): 0.005076142131979704, ('gbrG', 'pelG'): nan}, 20: {('bebG', 'cheG'): 0.0012092489093636133, ('bebG', 'esnG'): 0.11111111111111115, ('bebG', 'gbrG'): -0.0013020266364765526, ('bebG', 'pelG'): 0.22142096513533097, ('cheG', 'esnG'): 0.15121951219512195, ('cheG', 'gbrG'): 0.016038983485067757, ('cheG', 'pelG'): 0.16750191477765283, ('esnG', 'gbrG'): 0.08287292817679567, ('esnG', 'pelG'): 0.4319526627218935, ('gbrG', 'pelG'): 0.2659155445860597}}\n"
     ]
    }
   ],
   "source": [
    "print(fst_dict2)"
   ]
  },
  {
   "cell_type": "code",
   "execution_count": 13,
   "id": "7781ef1b",
   "metadata": {},
   "outputs": [
    {
     "name": "stdout",
     "output_type": "stream",
     "text": [
      "{1: '0:3', 2: '4:9', 3: '10:14', 4: '15:15', 5: '16:26', 6: '27:29', 7: '30:39', 8: '40:47', 9: '48:53', 10: '54:60', 11: '61:61', 12: '62:65', 13: '66:70', 14: '71:78', 15: '79:82', 16: '83:87', 17: '88:89', 18: '90:92', 19: '93:97', 20: '98:99'}\n"
     ]
    }
   ],
   "source": [
    "print(index_positions)"
   ]
  },
  {
   "cell_type": "markdown",
   "id": "22878f38",
   "metadata": {},
   "source": [
    "# Function to implement, we could easily change step size here"
   ]
  },
  {
   "cell_type": "code",
   "execution_count": 14,
   "id": "5deda7ef",
   "metadata": {},
   "outputs": [],
   "source": [
    "def fst_dict_calc(positions, dividend=1000): \n",
    "    \n",
    "    indices = {}\n",
    "\n",
    "    for i, num in enumerate(sorted(positions)):\n",
    "        \n",
    "        # take upper integer value of num\n",
    "        n = math.ceil(num/dividend)\n",
    "        \n",
    "        # add the indices to the corresponding key as n\n",
    "        indices.setdefault(n, []).append(i)\n",
    "    \n",
    "    # sort the dictionariy\n",
    "    indices = dict(sorted(indices.items(), key=lambda x:x[0]))\n",
    "    \n",
    "    fst_dict1 = {}\n",
    "    fst_dict2 = {}\n",
    "    index_positions = {}\n",
    "\n",
    "    for i, val in indices.items():\n",
    "        results = calc_hudson_fst(encoded.iloc[val]['sequence'])\n",
    "        #print(results)\n",
    "        \n",
    "        \n",
    "        # update index_positions dictionary as {i : range} pair\n",
    "        index_positions.update({i : str(val[0])+':'+str(val[-1])})\n",
    "        \n",
    "        \n",
    "        # update fst_dict2 dictionary as {i : results} pair\n",
    "        fst_dict2.update({i : results})\n",
    "\n",
    "        \n",
    "        for k, v in results.items():\n",
    "            \n",
    "            # nested dictionary as {pops : {index : fst_value}}\n",
    "            fst_dict1.setdefault(k, {}).update({i : v})\n",
    "\n",
    "    return fst_dict1, fst_dict2, index_positions"
   ]
  },
  {
   "cell_type": "code",
   "execution_count": 15,
   "id": "c90ae2a9",
   "metadata": {},
   "outputs": [],
   "source": [
    "# calling the function\n",
    "f1, f2, ind = fst_dict_calc(positions, 5000)"
   ]
  },
  {
   "cell_type": "code",
   "execution_count": 16,
   "id": "5337f5ba",
   "metadata": {},
   "outputs": [
    {
     "name": "stdout",
     "output_type": "stream",
     "text": [
      "{('bebG', 'cheG'): {1: 0.033965142017862875, 2: 0.020338952458864853, 3: 0.02829640374557564, 4: 0.011969472066051177}, ('bebG', 'esnG'): {1: 0.033950165902009506, 2: 0.22964449202370138, 3: 0.1439432092931027, 4: 0.104780270647522}, ('bebG', 'gbrG'): {1: 0.04513583112102886, 2: 0.019293514982147947, 3: 0.043925149596432, 4: 0.06649401774038718}, ('bebG', 'pelG'): {1: 0.022848016101287363, 2: 0.05748160747314586, 3: 0.1200093297802129, 4: 0.1675742115967348}, ('cheG', 'esnG'): {1: 0.06016570098124014, 2: 0.2416076185889834, 3: 0.14795362128785383, 4: 0.0929974027699578}, ('cheG', 'gbrG'): {1: 0.14513217793633923, 2: 0.07257541173870458, 3: 0.052244525622411726, 4: 0.029221633500032658}, ('cheG', 'pelG'): {1: 0.010662917429055646, 2: 0.08879712970015427, 3: 0.13107618191745593, 4: 0.12901670484988106}, ('esnG', 'gbrG'): {1: 0.0773255971059701, 2: 0.1920806796852942, 3: 0.09010871811293061, 4: 0.050164036520277365}, ('esnG', 'pelG'): {1: 0.030874994446445793, 2: 0.18016576094794665, 3: 0.22694910747247382, 4: 0.31932352488357674}, ('gbrG', 'pelG'): {1: 0.10799152555853336, 2: 0.04385200742540727, 3: 0.12841662227928322, 4: 0.2364799447642988}}\n"
     ]
    }
   ],
   "source": [
    "print(f1)"
   ]
  },
  {
   "cell_type": "code",
   "execution_count": 17,
   "id": "996f3545",
   "metadata": {},
   "outputs": [
    {
     "name": "stdout",
     "output_type": "stream",
     "text": [
      "{1: {('bebG', 'cheG'): 0.033965142017862875, ('bebG', 'esnG'): 0.033950165902009506, ('bebG', 'gbrG'): 0.04513583112102886, ('bebG', 'pelG'): 0.022848016101287363, ('cheG', 'esnG'): 0.06016570098124014, ('cheG', 'gbrG'): 0.14513217793633923, ('cheG', 'pelG'): 0.010662917429055646, ('esnG', 'gbrG'): 0.0773255971059701, ('esnG', 'pelG'): 0.030874994446445793, ('gbrG', 'pelG'): 0.10799152555853336}, 2: {('bebG', 'cheG'): 0.020338952458864853, ('bebG', 'esnG'): 0.22964449202370138, ('bebG', 'gbrG'): 0.019293514982147947, ('bebG', 'pelG'): 0.05748160747314586, ('cheG', 'esnG'): 0.2416076185889834, ('cheG', 'gbrG'): 0.07257541173870458, ('cheG', 'pelG'): 0.08879712970015427, ('esnG', 'gbrG'): 0.1920806796852942, ('esnG', 'pelG'): 0.18016576094794665, ('gbrG', 'pelG'): 0.04385200742540727}, 3: {('bebG', 'cheG'): 0.02829640374557564, ('bebG', 'esnG'): 0.1439432092931027, ('bebG', 'gbrG'): 0.043925149596432, ('bebG', 'pelG'): 0.1200093297802129, ('cheG', 'esnG'): 0.14795362128785383, ('cheG', 'gbrG'): 0.052244525622411726, ('cheG', 'pelG'): 0.13107618191745593, ('esnG', 'gbrG'): 0.09010871811293061, ('esnG', 'pelG'): 0.22694910747247382, ('gbrG', 'pelG'): 0.12841662227928322}, 4: {('bebG', 'cheG'): 0.011969472066051177, ('bebG', 'esnG'): 0.104780270647522, ('bebG', 'gbrG'): 0.06649401774038718, ('bebG', 'pelG'): 0.1675742115967348, ('cheG', 'esnG'): 0.0929974027699578, ('cheG', 'gbrG'): 0.029221633500032658, ('cheG', 'pelG'): 0.12901670484988106, ('esnG', 'gbrG'): 0.050164036520277365, ('esnG', 'pelG'): 0.31932352488357674, ('gbrG', 'pelG'): 0.2364799447642988}}\n"
     ]
    }
   ],
   "source": [
    "print(f2)"
   ]
  },
  {
   "cell_type": "code",
   "execution_count": 18,
   "id": "83df7ec2",
   "metadata": {},
   "outputs": [
    {
     "name": "stdout",
     "output_type": "stream",
     "text": [
      "{1: '0:26', 2: '27:60', 3: '61:82', 4: '83:99'}\n"
     ]
    }
   ],
   "source": [
    "print(ind)"
   ]
  },
  {
   "cell_type": "code",
   "execution_count": null,
   "id": "49c9b135",
   "metadata": {},
   "outputs": [],
   "source": []
  },
  {
   "cell_type": "code",
   "execution_count": 19,
   "id": "7df0db3c",
   "metadata": {},
   "outputs": [
    {
     "data": {
      "text/plain": [
       "35     ttttttttttttttttttttttttttttttttttttttttttttt...\n",
       "36     ttttttttttttttttttttttttttttttttttttttttttttt...\n",
       "37     ttttttttttttttttttttttttttttttttttttttttttttt...\n",
       "Name: sequence, dtype: object"
      ]
     },
     "execution_count": 19,
     "metadata": {},
     "output_type": "execute_result"
    }
   ],
   "source": [
    "encoded.iloc[[35, 36, 37]]['sequence']"
   ]
  }
 ],
 "metadata": {
  "kernelspec": {
   "display_name": "Python 3",
   "language": "python",
   "name": "python3"
  },
  "language_info": {
   "codemirror_mode": {
    "name": "ipython",
    "version": 3
   },
   "file_extension": ".py",
   "mimetype": "text/x-python",
   "name": "python",
   "nbconvert_exporter": "python",
   "pygments_lexer": "ipython3",
   "version": "3.8.8"
  }
 },
 "nbformat": 4,
 "nbformat_minor": 5
}
