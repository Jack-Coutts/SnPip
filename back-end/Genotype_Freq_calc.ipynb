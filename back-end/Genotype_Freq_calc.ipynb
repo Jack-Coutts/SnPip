{
 "cells": [
  {
   "cell_type": "markdown",
   "id": "ada87c56-a853-495b-a2e0-cef69e723eda",
   "metadata": {},
   "source": [
    "# Genotype Calculator v2"
   ]
  },
  {
   "cell_type": "code",
   "execution_count": 92,
   "id": "27d10c80-424a-4d23-9c5b-5240384fa810",
   "metadata": {
    "tags": []
   },
   "outputs": [],
   "source": [
    "# Read in file and create dictionary of SNP names and genotype info\n",
    "def gfdict(infile, outfile):\n",
    "    \n",
    "    import csv\n",
    "    import gzip\n",
    "    import time\n",
    "    \n",
    "    start_time = time.time()\n",
    "    \n",
    "    with gzip.open(infile,'rt') as vcf:\n",
    "        \n",
    "        dictionary={}\n",
    "        \n",
    "        for line in vcf:\n",
    "            \n",
    "            if line.strip().startswith(\"##\"):\n",
    "                pass\n",
    "            \n",
    "            elif line.strip().startswith(\"#\"):\n",
    "                pass\n",
    "            \n",
    "            else:\n",
    "                \n",
    "                items=line.split('\\t')\n",
    "                \n",
    "                refalt=[]\n",
    "                \n",
    "                for item in items:\n",
    "                    \n",
    "                    i=item.strip('\\t')\n",
    "                    \n",
    "                    if i=='A':\n",
    "                        refalt+=i\n",
    "                    elif i=='C':\n",
    "                        refalt+=i\n",
    "                    elif i=='T':\n",
    "                        refalt+=i\n",
    "                    elif i=='G':\n",
    "                        refalt+=i\n",
    "                    else:\n",
    "                        pass\n",
    "                    \n",
    "                refallele=refalt[0]\n",
    "                altallele=refalt[-1]\n",
    "                \n",
    "                for item in items:\n",
    "                    \n",
    "                    if item.startswith('rs',0) == True:\n",
    "                        \n",
    "                        rsID = item\n",
    "                        dictionary[rsID] = []\n",
    "                        \n",
    "                    else:\n",
    "                        pass\n",
    "               \n",
    "                homozygous_ref=0\n",
    "                homozygous_alt=0\n",
    "                heterozygous_first=0\n",
    "                heterozygous_second=0\n",
    "                \n",
    "                count=0\n",
    "                \n",
    "                for item in items:\n",
    "                    \n",
    "                    if item.startswith('1|',0) == True or item.startswith('0|',0)== True:\n",
    "                        \n",
    "                        count+=1\n",
    "                        \n",
    "                        # Using starts with rather than == because the final entry ends with \\n\n",
    "                        if item.startswith('1|0',0) == True:\n",
    "                            heterozygous_first+=1\n",
    "                            \n",
    "                        elif item.startswith('0|1',0) == True:\n",
    "                            heterozygous_second+=1\n",
    "                            \n",
    "                        elif item.startswith('1|1',0) == True:\n",
    "                            homozygous_alt+=1\n",
    "                        \n",
    "                        elif item.startswith('0|0',0) == True:\n",
    "                            homozygous_ref+=1\n",
    "                        \n",
    "                        else:                            \n",
    "                            pass\n",
    "                        \n",
    "                Sample_number=count\n",
    "                        \n",
    "                lstgf=['REF = ' + refallele,\n",
    "                       'ALT = ' + altallele,\n",
    "                       altallele + '|'+ refallele + ' = ' + str(heterozygous_first/Sample_number),\n",
    "                       refallele + '|'+ altallele + ' = ' + str(heterozygous_second/Sample_number),\n",
    "                       altallele + '|'+ altallele + ' = ' + str(homozygous_alt/Sample_number),\n",
    "                       refallele + '|'+ refallele + ' = ' + str(homozygous_ref/Sample_number)]\n",
    "                              \n",
    "                dictionary[rsID]=lstgf \n",
    "    \n",
    "    with open(outfile, 'w') as f:\n",
    "        for key in dictionary.keys():\n",
    "            f.write(\"%s, %s\\n\" % (key, dictionary[key]))\n",
    "        \n",
    "    print(\"File created in --- %s seconds ---\" % (time.time() - start_time))"
   ]
  },
  {
   "cell_type": "code",
   "execution_count": 93,
   "id": "ccba81a1-577d-45d9-a77c-326d400cf761",
   "metadata": {},
   "outputs": [],
   "source": [
    "# Check if there are duplicates in a list of elements \n",
    "\n",
    "def checkIfDuplicates_1(listOfElems):\n",
    "    ''' Check if given list contains any duplicates '''\n",
    "    if len(listOfElems) == len(set(listOfElems)):\n",
    "        return 'No Duplicates'\n",
    "    else:\n",
    "        return 'Duplicates Found'\n"
   ]
  },
  {
   "cell_type": "code",
   "execution_count": 94,
   "id": "cf936ee6-1d7b-4db8-a7fe-8e719282bc8f",
   "metadata": {},
   "outputs": [
    {
     "name": "stdout",
     "output_type": "stream",
     "text": [
      "File created in --- 143.3972499370575 seconds ---\n"
     ]
    }
   ],
   "source": [
    "# Create geneotype frequency file for china subpopulation\n",
    "gfdict('anno_biallelic_china.vcf.gz','China_GF.csv')"
   ]
  },
  {
   "cell_type": "code",
   "execution_count": 95,
   "id": "0c228490-2f0a-4923-9efc-426ccbd8eaab",
   "metadata": {},
   "outputs": [
    {
     "name": "stdout",
     "output_type": "stream",
     "text": [
      "File created in --- 124.66317868232727 seconds ---\n"
     ]
    }
   ],
   "source": [
    "# Create geneotype frequency file for Bengali subpopulation\n",
    "gfdict('anno_biallelic_bengali.vcf.gz','Bengali_GF.csv')\n"
   ]
  },
  {
   "cell_type": "code",
   "execution_count": 96,
   "id": "d8872dc0-5288-48a1-8cce-572fd39a9bf5",
   "metadata": {},
   "outputs": [
    {
     "name": "stdout",
     "output_type": "stream",
     "text": [
      "File created in --- 128.75586009025574 seconds ---\n"
     ]
    }
   ],
   "source": [
    "# Create geneotype frequency file for GBR subpopulation\n",
    "gfdict('anno_biallelic_GBR.vcf.gz','GBR_GF.csv')"
   ]
  },
  {
   "cell_type": "code",
   "execution_count": null,
   "id": "6a7024c7-402e-49ce-bbaf-064186bc2b95",
   "metadata": {},
   "outputs": [],
   "source": [
    "# Create geneotype frequency file for Peru subpopulation\n",
    "gfdict('anno_biallelic_peru.vcf.gz','Peru_GF.csv')"
   ]
  },
  {
   "cell_type": "code",
   "execution_count": null,
   "id": "78a9be72-4039-40e2-a820-dd3506b7bd5e",
   "metadata": {},
   "outputs": [],
   "source": [
    "# Create geneotype frequency file for Esan_Nigeria subpopulation\n",
    "gfdict('anno_biallelic_esan_nigeria.vcf.gz','Esan_Nigeria_GF.csv')"
   ]
  },
  {
   "cell_type": "code",
   "execution_count": null,
   "id": "7f8ee4cc-e4f0-49b5-b00c-095a54a487f3",
   "metadata": {},
   "outputs": [],
   "source": [
    "# Create geneotype frequency file for full chr22 VCF across all populations\n",
    "gfdict('full_chr22.vcf.gz','Full_chr22_GF.csv')"
   ]
  },
  {
   "cell_type": "code",
   "execution_count": null,
   "id": "36000396-1ee0-479b-b349-61ac0e4f8d71",
   "metadata": {},
   "outputs": [],
   "source": []
  },
  {
   "cell_type": "code",
   "execution_count": null,
   "id": "0c4109cd-8b93-4e8b-9fdb-f8dd1c5080bd",
   "metadata": {},
   "outputs": [],
   "source": []
  },
  {
   "cell_type": "code",
   "execution_count": null,
   "id": "2fd0b758-f061-4ba6-819b-8cdddadd70d5",
   "metadata": {},
   "outputs": [],
   "source": []
  }
 ],
 "metadata": {
  "kernelspec": {
   "display_name": "Python 3 (ipykernel)",
   "language": "python",
   "name": "python3"
  },
  "language_info": {
   "codemirror_mode": {
    "name": "ipython",
    "version": 3
   },
   "file_extension": ".py",
   "mimetype": "text/x-python",
   "name": "python",
   "nbconvert_exporter": "python",
   "pygments_lexer": "ipython3",
   "version": "3.8.12"
  }
 },
 "nbformat": 4,
 "nbformat_minor": 5
}
