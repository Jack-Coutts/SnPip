{
 "cells": [
  {
   "cell_type": "markdown",
   "id": "ada87c56-a853-495b-a2e0-cef69e723eda",
   "metadata": {},
   "source": [
    "# Genotype Calculator v2"
   ]
  },
  {
   "cell_type": "code",
   "execution_count": 42,
   "id": "a738030c-6e8e-4deb-8b12-63df91641167",
   "metadata": {
    "tags": []
   },
   "outputs": [],
   "source": [
    "# Read in file and create dictionary of SNP names and genotype info\n",
    "def gfdict(filename):\n",
    "    \n",
    "    with open(filename) as vcf:\n",
    "        \n",
    "        dictionary={}\n",
    "        \n",
    "        for line in vcf:\n",
    "            \n",
    "            if line.strip().startswith(\"##\"):\n",
    "                pass\n",
    "            \n",
    "            elif line.strip().startswith(\"#\"):\n",
    "                pass\n",
    "            \n",
    "            else:\n",
    "                \n",
    "                items=line.split('\\t')\n",
    "                \n",
    "                for item in items:\n",
    "                    \n",
    "                    if item.startswith('rs',0) == True:\n",
    "                        \n",
    "                        rsID = item\n",
    "                        dictionary[rsID] = []\n",
    "                        \n",
    "                    else:\n",
    "                        pass\n",
    "               \n",
    "                homozygous_ref=0\n",
    "                homozygous_alt=0\n",
    "                heterozygous_first=0\n",
    "                heterozygous_second=0\n",
    "                \n",
    "                count=0\n",
    "                \n",
    "                for item in items:\n",
    "                    \n",
    "                    if item.startswith('1|',0) == True or item.startswith('0|',0)== True:\n",
    "                        \n",
    "                        count+=1\n",
    "                        \n",
    "                        # Using starts with rather than == because the final entry ends with \\n\n",
    "                        if item.startswith('1|0',0) == True:\n",
    "                            heterozygous_first+=1\n",
    "                            \n",
    "                        elif item.startswith('0|1',0) == True:\n",
    "                            heterozygous_second+=1\n",
    "                            \n",
    "                        elif item.startswith('1|1',0) == True:\n",
    "                            homozygous_alt+=1\n",
    "                        \n",
    "                        elif item.startswith('0|0',0) == True:\n",
    "                            homozygous_ref+=1\n",
    "                        \n",
    "                        else:                            \n",
    "                            pass\n",
    "                        \n",
    "                Sample_number=count\n",
    "                        \n",
    "                lstgf=['1|0 = '+ str(heterozygous_first/Sample_number), '0|1 = '+ str(heterozygous_second/Sample_number), '1|1 = '+ str(homozygous_alt/Sample_number), '0|0= '+ str(homozygous_ref/Sample_number)]\n",
    "                              \n",
    "                dictionary[rsID]=lstgf        \n",
    "        \n",
    "    return dictionary "
   ]
  },
  {
   "cell_type": "code",
   "execution_count": 48,
   "id": "ccba81a1-577d-45d9-a77c-326d400cf761",
   "metadata": {},
   "outputs": [],
   "source": [
    "# Check if there are duplicates in the file \n",
    "\n",
    "def checkIfDuplicates_1(listOfElems):\n",
    "    ''' Check if given list contains any duplicates '''\n",
    "    if len(listOfElems) == len(set(listOfElems)):\n",
    "        return 'No Duplicates'\n",
    "    else:\n",
    "        return 'Duplicates Found'\n"
   ]
  },
  {
   "cell_type": "code",
   "execution_count": 14,
   "id": "cf936ee6-1d7b-4db8-a7fe-8e719282bc8f",
   "metadata": {},
   "outputs": [],
   "source": [
    "# Count frequency of genotype for each SNP\n",
    "\n",
    "def genfreq (dictionary):\n",
    "    \n",
    "    for item in dictionary:\n",
    "        \n",
    "        if item \n",
    "        \n",
    "        "
   ]
  },
  {
   "cell_type": "code",
   "execution_count": null,
   "id": "0c228490-2f0a-4923-9efc-426ccbd8eaab",
   "metadata": {},
   "outputs": [],
   "source": [
    "\n"
   ]
  },
  {
   "cell_type": "code",
   "execution_count": null,
   "id": "d8872dc0-5288-48a1-8cce-572fd39a9bf5",
   "metadata": {},
   "outputs": [],
   "source": []
  },
  {
   "cell_type": "code",
   "execution_count": null,
   "id": "6a7024c7-402e-49ce-bbaf-064186bc2b95",
   "metadata": {},
   "outputs": [],
   "source": []
  },
  {
   "cell_type": "code",
   "execution_count": null,
   "id": "78a9be72-4039-40e2-a820-dd3506b7bd5e",
   "metadata": {},
   "outputs": [],
   "source": []
  },
  {
   "cell_type": "code",
   "execution_count": null,
   "id": "7f8ee4cc-e4f0-49b5-b00c-095a54a487f3",
   "metadata": {},
   "outputs": [],
   "source": []
  },
  {
   "cell_type": "code",
   "execution_count": null,
   "id": "36000396-1ee0-479b-b349-61ac0e4f8d71",
   "metadata": {},
   "outputs": [],
   "source": []
  },
  {
   "cell_type": "code",
   "execution_count": null,
   "id": "0c4109cd-8b93-4e8b-9fdb-f8dd1c5080bd",
   "metadata": {},
   "outputs": [],
   "source": []
  },
  {
   "cell_type": "code",
   "execution_count": null,
   "id": "2fd0b758-f061-4ba6-819b-8cdddadd70d5",
   "metadata": {},
   "outputs": [],
   "source": []
  }
 ],
 "metadata": {
  "kernelspec": {
   "display_name": "Python 3 (ipykernel)",
   "language": "python",
   "name": "python3"
  },
  "language_info": {
   "codemirror_mode": {
    "name": "ipython",
    "version": 3
   },
   "file_extension": ".py",
   "mimetype": "text/x-python",
   "name": "python",
   "nbconvert_exporter": "python",
   "pygments_lexer": "ipython3",
   "version": "3.8.12"
  }
 },
 "nbformat": 4,
 "nbformat_minor": 5
}
